{
 "cells": [
  {
   "cell_type": "code",
   "execution_count": null,
   "metadata": {},
   "outputs": [],
   "source": [
    "from sklearn.datasets import load_diabetes\n",
    "import pickle\n",
    "import pandas as pd\n",
    "import numpy as np\n",
    "import sklearn\n",
    "import matplotlib.pyplot as plt\n",
    "from sklearn.datasets import load_iris\n",
    "import os\n",
    "import torch\n",
    "\n",
    "\n",
    "from synthcity.metrics.eval_performance import (\n",
    "    PerformanceEvaluatorMLP,\n",
    "    PerformanceEvaluatorXGB,\n",
    ")\n",
    "from synthcity.utils import reproducibility\n",
    "from synthcity.plugins import Plugins\n",
    "import synthcity.logger as log\n",
    "from synthcity.plugins.core.dataloader import GenericDataLoader\n",
    "from deep_generative_ensemble.DGE_utils import metric_different_datasets, mean_across_pandas, add_std, get_folder_names\n",
    "\n",
    "reproducibility.clear_cache()\n",
    "device = torch.device(\"cuda\" if torch.cuda.is_available() else \"cpu\")\n",
    "\n",
    "\n",
    "assert device.type == 'cuda'\n",
    "Plugins(categories=[\"generic\"]).list()\n"
   ]
  },
  {
   "cell_type": "code",
   "execution_count": null,
   "metadata": {},
   "outputs": [],
   "source": [
    "from deep_generative_ensemble.DGE_data import get_real_and_synthetic\n",
    "\n",
    "# let's restrict ourselves to classification datasets\n",
    "datasets = ['moons', 'circles', 'breast_cancer',\n",
    "            'adult',  'seer', 'covid']\n",
    "model_name = 'ctgan'  # synthetic data model\n",
    "\n",
    "p_train = 0.8  # proportion of training data for generative model. Default values if None\n",
    "n_models = 20  # number of models in ensemble, for each run\n",
    "max_n = 2000  # maximum number of data points to use for training generative model.\n",
    "nsyn = 2000  # number of synthetic data points per synthetic dataset. Defaults to same as generative training size if None\n",
    "\n",
    "num_runs = 5  # Number of runs. Don't choose to large, since total number of synthetic datasets is num_runs*n_models\n",
    "\n",
    "load = True  # results\n",
    "load_syn = True  # data\n",
    "save = True  # save results and data\n",
    "\n",
    "outlier = False\n",
    "\n",
    "verbose = False\n",
    "\n",
    "if nsyn is None:\n",
    "    nsyn = max_n\n"
   ]
  },
  {
   "cell_type": "code",
   "execution_count": null,
   "metadata": {},
   "outputs": [],
   "source": [
    "from deep_generative_ensemble.DGE_utils import get_folder_names, tt_predict_performance, cat_dl\n",
    "from deep_generative_ensemble.DGE_data import get_real_and_synthetic\n",
    "from deep_generative_ensemble.DGE_experiments import cross_val\n",
    "import pandas as pd\n",
    "from sklearn.model_selection import KFold\n"
   ]
  },
  {
   "cell_type": "code",
   "execution_count": null,
   "metadata": {},
   "outputs": [],
   "source": [
    "num_runs = 5\n",
    "model_type = 'deepish_mlp'\n",
    "model_name = 'tvae'\n",
    "nsyn = 5000\n",
    "max_n = 2000\n",
    "p_train = 0.8\n",
    "n_models = 20\n",
    "cross_fold = 5\n",
    "load_syn = True\n",
    "load = True\n",
    "save = True\n",
    "verbose = True\n",
    "\n",
    "scores_s_all = {}\n",
    "scores_r_all = {}\n",
    "\n",
    "datasets = ['moons', 'circles']#, 'adult', 'seer', 'covid']\n",
    "\n",
    "for dataset in datasets[-3:]:\n",
    "    print(f'Dataset {dataset}\\n')\n",
    "    \n",
    "    workspace_folder, results_folder = get_folder_names(\n",
    "        dataset, model_name, max_n=max_n, nsyn=nsyn)\n",
    "\n",
    "    X_gt, X_syns = get_real_and_synthetic(dataset=dataset,\n",
    "                                          p_train=p_train,\n",
    "                                          n_models=n_models*num_runs,\n",
    "                                          model_name=model_name,\n",
    "                                          load_syn=load_syn,\n",
    "                                          verbose=verbose,\n",
    "                                          max_n=max_n,\n",
    "                                          nsyn=nsyn)\n",
    "\n",
    "    print(f'Dataset {dataset}\\n')\n",
    "\n",
    "    scores_s, scores_r = cross_val(X_gt,\n",
    "                                  X_syns,\n",
    "                                  workspace_folder=workspace_folder,\n",
    "                                  results_folder=results_folder,\n",
    "                                  save=save,\n",
    "                                  load=load,\n",
    "                                  task_type=model_type,\n",
    "                                  cross_fold=cross_fold,\n",
    "                                  verbose=verbose\n",
    "                                  )\n",
    "\n",
    "    scores_s_all[dataset] = scores_s\n",
    "    scores_r_all[dataset] = scores_r\n"
   ]
  },
  {
   "cell_type": "code",
   "execution_count": null,
   "metadata": {},
   "outputs": [],
   "source": [
    "\n",
    "metric = 'AUC'\n",
    "import seaborn as sns\n",
    "import matplotlib.pyplot as plt\n",
    "for dataset in scores_s_all.keys():\n",
    "    print(dataset)\n",
    "    scores_r_all[dataset]['Test set'] = 'Real'\n",
    "    scores_s_all[dataset]['Test set'] = 'Synthetic'\n",
    "    scores_ = pd.concat([scores_r_all[dataset], scores_s_all[dataset]],axis=0)\n",
    "    scores_.reset_index(inplace=True)\n",
    "    scores_.rename(columns={'approach':'Approach'}, inplace=True)\n",
    "    scores_ = scores_.mask(scores_ == 'DGE$_{20]$','DGE$_{20}$')\n",
    "    scores_ = scores_.mask(scores_ == 'DGE$_{20}$ (concat)','Naive (C)')\n",
    "    scores_ = scores_[scores_['Approach']!= 'Naive (C)']\n",
    "    \n",
    "    sns.catplot(data=scores_, x='Approach', y=metric, hue='Test set', kind='box', showfliers=False)\n",
    "    os.makedirs(f'./uncertainty_results/cross_val/', exist_ok=True)\n",
    "    plt.savefig(f'./uncertainty_results/cross_val/{dataset}_{metric}_{model_name}_nsyn_{nsyn}_maxn{max_n}_{model_type}.png')\n",
    "    plt.show()\n"
   ]
  },
  {
   "cell_type": "code",
   "execution_count": null,
   "metadata": {},
   "outputs": [],
   "source": [
    "scores_"
   ]
  }
 ],
 "metadata": {
  "kernelspec": {
   "display_name": "gen",
   "language": "python",
   "name": "python3"
  },
  "language_info": {
   "codemirror_mode": {
    "name": "ipython",
    "version": 3
   },
   "file_extension": ".py",
   "mimetype": "text/x-python",
   "name": "python",
   "nbconvert_exporter": "python",
   "pygments_lexer": "ipython3",
   "version": "3.9.17"
  },
  "orig_nbformat": 4,
  "vscode": {
   "interpreter": {
    "hash": "7aab09e613a68d507601146f34912616c121f43e65186c7109754633afa753d4"
   }
  }
 },
 "nbformat": 4,
 "nbformat_minor": 2
}
