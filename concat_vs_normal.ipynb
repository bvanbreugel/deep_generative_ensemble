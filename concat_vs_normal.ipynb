{
 "cells": [
  {
   "cell_type": "code",
   "execution_count": 2,
   "metadata": {},
   "outputs": [
    {
     "name": "stderr",
     "output_type": "stream",
     "text": [
      "/home/bv292/miniconda/envs/gen/lib/python3.8/site-packages/tqdm/auto.py:22: TqdmWarning: IProgress not found. Please update jupyter and ipywidgets. See https://ipywidgets.readthedocs.io/en/stable/user_install.html\n",
      "  from .autonotebook import tqdm as notebook_tqdm\n"
     ]
    },
    {
     "name": "stdout",
     "output_type": "stream",
     "text": [
      "<stdin>:1:10: fatal error: cuda.h: No such file or directory\n",
      "compilation terminated.\n",
      "\n",
      "<stdin>:1:10: fatal error: cuda.h: No such file or directory\n",
      "compilation terminated.\n",
      "\n",
      "<stdin>:1:10: fatal error: cuda.h: No such file or directory\n",
      "compilation terminated.\n",
      "\n",
      "<stdin>:1:10: fatal error: cuda.h: No such file or directory\n",
      "compilation terminated.\n",
      "\n"
     ]
    },
    {
     "data": {
      "text/plain": [
       "['sdv_tvae',\n",
       " 'ctgan',\n",
       " 'rtvae',\n",
       " 'adsgan',\n",
       " 'copulagan',\n",
       " 'sdv_ctgan',\n",
       " 'gaussian_copula',\n",
       " 'bayesian_network',\n",
       " 'privbayes',\n",
       " 'nflow',\n",
       " 'pategan',\n",
       " 'tvae',\n",
       " 'dpgan']"
      ]
     },
     "execution_count": 2,
     "metadata": {},
     "output_type": "execute_result"
    }
   ],
   "source": [
    "from sklearn.datasets import load_diabetes\n",
    "import pickle\n",
    "import pandas as pd\n",
    "import numpy as np\n",
    "import sklearn\n",
    "import matplotlib.pyplot as plt\n",
    "from sklearn.datasets import load_iris\n",
    "import os\n",
    "import torch\n",
    "\n",
    "\n",
    "from synthcity.metrics.eval_performance import (\n",
    "    PerformanceEvaluatorMLP,\n",
    "    PerformanceEvaluatorXGB,\n",
    ")\n",
    "from synthcity.utils import reproducibility\n",
    "from synthcity.plugins import Plugins\n",
    "import synthcity.logger as log\n",
    "from synthcity.plugins.core.dataloader import GenericDataLoader\n",
    "from DGE_utils import metric_different_datasets, mean_across_pandas, add_std, get_folder_names\n",
    "\n",
    "reproducibility.clear_cache()\n",
    "device = torch.device(\"cuda\" if torch.cuda.is_available() else \"cpu\")\n",
    "\n",
    "\n",
    "assert device.type == 'cuda'\n",
    "Plugins(categories=[\"generic\"]).list()\n"
   ]
  },
  {
   "cell_type": "code",
   "execution_count": 3,
   "metadata": {},
   "outputs": [],
   "source": [
    "from DGE_data import get_real_and_synthetic\n",
    "\n",
    "# let's restrict ourselves to classification datasets\n",
    "datasets = ['moons', 'circles', 'breast_cancer',\n",
    "            'adult',  'seer', 'covid']\n",
    "# ['moons', 'circles','cal_housing', 'adult', 'diabetes', 'breast_cancer',  'seer', 'cutract' ]\n",
    "model_name = 'ctgan'  # synthetic data model\n",
    "\n",
    "p_train = 0.8  # proportion of training data for generative model. Default values if None\n",
    "n_models = 20  # number of models in ensemble, for each run\n",
    "max_n = 2000  # maximum number of data points to use for training generative model.\n",
    "nsyn = 2000  # number of synthetic data points per synthetic dataset. Defaults to same as generative training size if None\n",
    "\n",
    "num_runs = 10  # Number of runs. Don't choose to large, since total number of synthetic datasets is num_runs*n_models\n",
    "\n",
    "load = True  # results\n",
    "load_syn = True  # data\n",
    "save = True  # save results and data\n",
    "\n",
    "outlier = False\n",
    "\n",
    "verbose = False\n",
    "\n",
    "if nsyn is None:\n",
    "    nsyn = max_n\n"
   ]
  },
  {
   "cell_type": "code",
   "execution_count": 4,
   "metadata": {},
   "outputs": [],
   "source": [
    "from DGE_utils import get_folder_names, tt_predict_performance, cat_dl\n",
    "from DGE_data import get_real_and_synthetic\n",
    "from DGE_experiments import cross_val\n",
    "import pandas as pd\n",
    "from sklearn.model_selection import KFold\n"
   ]
  },
  {
   "cell_type": "code",
   "execution_count": 8,
   "metadata": {},
   "outputs": [
    {
     "name": "stdout",
     "output_type": "stream",
     "text": [
      "n_total 20000 n_train: 5000\n",
      "Dataset seer\n",
      "\n",
      "Computing means and stds\n",
      "Oracle\n",
      "Run 0 approach Oracle split 0\n",
      "Run 0 approach Oracle split 1\n",
      "Run 0 approach Oracle split 2\n",
      "Run 0 approach Oracle split 3\n",
      "Run 0 approach Oracle split 4\n",
      "Naive\n",
      "Run 0 approach Naive split 0\n",
      "Run 0 approach Naive split 1\n",
      "Run 0 approach Naive split 2\n",
      "Run 0 approach Naive split 3\n",
      "Run 0 approach Naive split 4\n",
      "DGE$_{20]$\n",
      "Run 0 approach DGE$_{20]$ split 0\n",
      "Run 0 approach DGE$_{20]$ split 1\n"
     ]
    }
   ],
   "source": [
    "num_runs = 5\n",
    "model_type = 'largest_mlp'\n",
    "model_name = 'ctgan_deep'\n",
    "nsyn = 5000\n",
    "max_n = 5000\n",
    "p_train = 0.8\n",
    "n_models = 20\n",
    "cross_fold = 5\n",
    "load_syn = True\n",
    "load = True\n",
    "save = True\n",
    "verbose = True\n",
    "\n",
    "scores_s_all = {}\n",
    "scores_r_all = {}\n",
    "\n",
    "\n",
    "for dataset in ['seer']:\n",
    "    workspace_folder, results_folder = get_folder_names(\n",
    "        dataset, model_name, max_n=max_n, nsyn=nsyn)\n",
    "\n",
    "    X_gt, X_syns = get_real_and_synthetic(dataset=dataset,\n",
    "                                          p_train=p_train,\n",
    "                                          n_models=n_models*num_runs,\n",
    "                                          model_name=model_name,\n",
    "                                          load_syn=load_syn,\n",
    "                                          verbose=verbose,\n",
    "                                          max_n=max_n,\n",
    "                                          nsyn=nsyn)\n",
    "\n",
    "    print(f'Dataset {dataset}\\n')\n",
    "\n",
    "    scores_s, scores_r = cross_val(X_gt,\n",
    "                                  X_syns,\n",
    "                                  workspace_folder=workspace_folder,\n",
    "                                  results_folder=results_folder,\n",
    "                                  save=save,\n",
    "                                  load=load,\n",
    "                                  task_type=model_type,\n",
    "                                  cross_fold=cross_fold,\n",
    "                                  verbose=verbose\n",
    "                                  )\n",
    "\n",
    "    scores_s_all[dataset] = scores_s\n",
    "    scores_r_all[dataset] = scores_r\n"
   ]
  },
  {
   "cell_type": "code",
   "execution_count": null,
   "metadata": {},
   "outputs": [
    {
     "name": "stdout",
     "output_type": "stream",
     "text": [
      "seer\n",
      "                          AUC       Acc        F1  Precision    Recall  \\\n",
      "approach                                                                 \n",
      "DGE$_{20]$           0.859100  0.780512  0.718981   0.742539  0.716457   \n",
      "DGE$_{20}$ (concat)  0.858001  0.782374  0.720023   0.747587  0.712358   \n",
      "Naive                0.838294  0.911840  0.568821   0.596912  0.553865   \n",
      "Oracle               0.900753  0.827800  0.825512   0.836617  0.816054   \n",
      "\n",
      "                          NLL     Brier  split  \n",
      "approach                                        \n",
      "DGE$_{20]$           0.507891  0.154712    2.0  \n",
      "DGE$_{20}$ (concat)  0.502671  0.154198    2.0  \n",
      "Naive                0.255922  0.065493    2.0  \n",
      "Oracle               0.454684  0.124951    2.0  \n",
      "                          AUC       Acc        F1  Precision    Recall  \\\n",
      "approach                                                                 \n",
      "DGE$_{20]$           0.882827  0.806603  0.800894   0.825490  0.779701   \n",
      "DGE$_{20}$ (concat)  0.883297  0.808019  0.802591   0.826211  0.782245   \n",
      "Naive                0.677355  0.673757  0.517195   0.701056  0.508139   \n",
      "Oracle               0.905679  0.830717  0.828665   0.838809  0.819797   \n",
      "\n",
      "                          NLL     Brier  split  \n",
      "approach                                        \n",
      "DGE$_{20]$           0.464554  0.139575    2.0  \n",
      "DGE$_{20}$ (concat)  0.461973  0.138841    2.0  \n",
      "Naive                4.495298  0.293682    2.0  \n",
      "Oracle               0.431697  0.122876    2.0  \n"
     ]
    }
   ],
   "source": [
    "for dataset in ['seer']:\n",
    "    print(dataset)\n",
    "    print(scores_s_all[dataset].groupby('approach').mean())\n",
    "    print(scores_r_all[dataset].groupby('approach').mean())"
   ]
  },
  {
   "cell_type": "code",
   "execution_count": null,
   "metadata": {},
   "outputs": [],
   "source": []
  }
 ],
 "metadata": {
  "kernelspec": {
   "display_name": "gen",
   "language": "python",
   "name": "python3"
  },
  "language_info": {
   "codemirror_mode": {
    "name": "ipython",
    "version": 3
   },
   "file_extension": ".py",
   "mimetype": "text/x-python",
   "name": "python",
   "nbconvert_exporter": "python",
   "pygments_lexer": "ipython3",
   "version": "3.8.15"
  },
  "orig_nbformat": 4,
  "vscode": {
   "interpreter": {
    "hash": "7aab09e613a68d507601146f34912616c121f43e65186c7109754633afa753d4"
   }
  }
 },
 "nbformat": 4,
 "nbformat_minor": 2
}
