{
 "cells": [
  {
   "cell_type": "markdown",
   "metadata": {},
   "source": [
    "# Import modules"
   ]
  },
  {
   "cell_type": "code",
   "execution_count": 1,
   "metadata": {},
   "outputs": [
    {
     "name": "stderr",
     "output_type": "stream",
     "text": [
      "/home/bv292/miniconda/envs/test_env/lib/python3.8/site-packages/tqdm/auto.py:22: TqdmWarning: IProgress not found. Please update jupyter and ipywidgets. See https://ipywidgets.readthedocs.io/en/stable/user_install.html\n",
      "  from .autonotebook import tqdm as notebook_tqdm\n"
     ]
    }
   ],
   "source": [
    "from sklearn.datasets import load_diabetes\n",
    "import pickle\n",
    "import pandas as pd\n",
    "import numpy as np\n",
    "import sklearn\n",
    "import matplotlib.pyplot as plt\n",
    "from sklearn.datasets import load_iris\n",
    "import os\n",
    "import torch\n",
    "\n",
    "\n",
    "from synthcity.metrics.eval_performance import (\n",
    "    PerformanceEvaluatorMLP,\n",
    "    PerformanceEvaluatorXGB,\n",
    ")\n",
    "from synthcity.utils import reproducibility\n",
    "from synthcity.plugins import Plugins\n",
    "import synthcity.logger as log\n",
    "from synthcity.plugins.core.dataloader import GenericDataLoader\n",
    "\n",
    "\n",
    "reproducibility.clear_cache()\n",
    "device = torch.device(\"cuda\" if torch.cuda.is_available() else \"cpu\")\n",
    "Plugins(categories=[\"generic\"]).list()\n",
    "\n",
    "assert device.type == 'cuda'\n"
   ]
  },
  {
   "attachments": {},
   "cell_type": "markdown",
   "metadata": {},
   "source": [
    "# Reload"
   ]
  },
  {
   "cell_type": "code",
   "execution_count": 2,
   "metadata": {},
   "outputs": [
    {
     "data": {
      "text/plain": [
       "<module 'DGE_utils' from '/home/bv292/synthcity/DGE_utils.py'>"
      ]
     },
     "execution_count": 2,
     "metadata": {},
     "output_type": "execute_result"
    }
   ],
   "source": [
    "import importlib\n",
    "import DGE_experiments\n",
    "import DGE_data\n",
    "import DGE_utils\n",
    "importlib.reload(DGE_experiments)\n",
    "importlib.reload(DGE_data)\n",
    "importlib.reload(DGE_utils)\n"
   ]
  },
  {
   "cell_type": "markdown",
   "metadata": {},
   "source": [
    "# Load data and settings"
   ]
  },
  {
   "cell_type": "code",
   "execution_count": 3,
   "metadata": {},
   "outputs": [
    {
     "name": "stdout",
     "output_type": "stream",
     "text": [
      "n_total 20000 n_train: 10000\n"
     ]
    },
    {
     "name": "stderr",
     "output_type": "stream",
     "text": [
      "  4%|▍         | 77/2000 [00:26<11:21,  2.82it/s]"
     ]
    }
   ],
   "source": [
    "from DGE_data import get_real_and_synthetic\n",
    "\n",
    "dataset = 'cutract'  # real data\n",
    "model_name = 'ctgan'  # synthetic data model\n",
    "\n",
    "nsyn = None  # number of synthetic data points per synthetic dataset\n",
    "p_train = None  # proportion of training data for generative model. Default values if None\n",
    "n_models = 20  # number of models in ensemble\n",
    "load = False  # results\n",
    "\n",
    "load_syn = False  # data\n",
    "save = True  # save results and data\n",
    "verbose = False\n",
    "\n",
    "\n",
    "workspace_folder = os.path.join(\"workspace\", dataset,model_name)\n",
    "results_folder = os.path.join(\"uncertainty_results\",dataset,model_name)\n",
    "\n",
    "X_gt, X_syns = get_real_and_synthetic(dataset=dataset,\n",
    "                                      p_train=p_train,\n",
    "                                      n_models=n_models,\n",
    "                                      model_name=model_name,\n",
    "                                      load_syn=load_syn,\n",
    "                                      verbose=verbose)\n",
    "\n",
    "nsyn = len(X_syns[0])\n",
    "print(len(X_syns))\n",
    "print(X_syns[0].shape)\n"
   ]
  },
  {
   "attachments": {},
   "cell_type": "markdown",
   "metadata": {},
   "source": [
    "# Analyses"
   ]
  },
  {
   "attachments": {},
   "cell_type": "markdown",
   "metadata": {},
   "source": [
    "## Model Training"
   ]
  },
  {
   "cell_type": "code",
   "execution_count": null,
   "metadata": {},
   "outputs": [],
   "source": [
    "from DGE_experiments import predictive_experiment\n",
    "\n",
    "predictive_experiment(X_gt,\n",
    "                      X_syns,\n",
    "                      workspace_folder=workspace_folder,\n",
    "                      results_folder=results_folder,\n",
    "                      save=save,\n",
    "                      load=load)\n"
   ]
  },
  {
   "attachments": {},
   "cell_type": "markdown",
   "metadata": {},
   "source": [
    "## Influence of synthetic data size"
   ]
  },
  {
   "attachments": {},
   "cell_type": "markdown",
   "metadata": {},
   "source": [
    "Let's study the effect of synthetic data size."
   ]
  },
  {
   "cell_type": "code",
   "execution_count": null,
   "metadata": {},
   "outputs": [],
   "source": [
    "from DGE_experiments import predictive_varying_nsyn\n",
    "\n",
    "predictive_varying_nsyn(X_gt, X_syns, dataset, model_name, n_models,\n",
    "                        nsyn, results_folder, workspace_folder, load, save, verbose=True)\n"
   ]
  },
  {
   "attachments": {},
   "cell_type": "markdown",
   "metadata": {},
   "source": [
    "## Density estimation\n"
   ]
  },
  {
   "cell_type": "code",
   "execution_count": null,
   "metadata": {},
   "outputs": [],
   "source": [
    "from DGE_experiments import density_experiment\n",
    "\n",
    "if X_gt.targettype is None:\n",
    "    density_experiment(X_gt, X_syns, load, save)\n"
   ]
  },
  {
   "attachments": {},
   "cell_type": "markdown",
   "metadata": {},
   "source": [
    "# Model Evaluation\n",
    "\n",
    "We compare the single baseline model vs the generative uncertainty model vs an oracle. Workflow.\n",
    "0. Train and generate synthetic datasets $S_i$.\n",
    "1. Take each synthetic dataset $S_i$ and split it up in train and test.\n",
    "2. Train a model $f_i$ on the train set, for each $S_i$\n",
    "3. Evaluate on the same synthetic dataset's test set $S_{i,test}$, giving $\\hat{M}^S_i$ [Single performance]\n",
    "4. Evaluate on the true real test set (oracle), $D_{test}$, giving $M_i$ [Oracle performance]\n",
    "5. Evaluate on the other synthetic datasets $\\cup_{j\\neq i} S_{j}$, giving $\\hat{M}^G_i$ [Generative performance]\n",
    "6. Compute the deviation from the oracle, $||M_i - \\hat{M}_i||$ and average over all models $f_i$. \n",
    "7. Repeat 1-6 for different model classes $f$\n",
    "\n",
    "N.B. the idea of the above, is that the trained model $f_i$ is the same for each evaluation type. In the model selection section, we will compare the performance of different model classes, where we will train a new model for each evaluation type (hence the aim is to evaluate which class is best, while the model itself may vary)."
   ]
  },
  {
   "cell_type": "code",
   "execution_count": null,
   "metadata": {},
   "outputs": [
    {
     "name": "stdout",
     "output_type": "stream",
     "text": [
      "Aggregate approaches:\n",
      "Train model 1/20\n",
      "Train model 2/20\n",
      "Train model 3/20\n",
      "Train model 4/20\n",
      "Train model 5/20\n",
      "Train model 6/20\n",
      "Train model 7/20\n",
      "Train model 8/20\n",
      "Train model 9/20\n",
      "Train model 10/20\n",
      "Train model 11/20\n",
      "Train model 12/20\n",
      "Train model 13/20\n",
      "Train model 14/20\n",
      "Train model 15/20\n",
      "Train model 16/20\n",
      "Train model 17/20\n",
      "Train model 18/20\n",
      "Train model 19/20\n",
      "Train model 20/20\n",
      "Train model 1/20\n",
      "Train model 2/20\n",
      "Train model 3/20\n",
      "Train model 4/20\n",
      "Train model 5/20\n",
      "Train model 6/20\n",
      "Train model 7/20\n",
      "Train model 8/20\n",
      "Train model 9/20\n",
      "Train model 10/20\n",
      "Train model 11/20\n",
      "Train model 12/20\n",
      "Train model 13/20\n",
      "Train model 14/20\n",
      "Train model 15/20\n",
      "Train model 16/20\n",
      "Train model 17/20\n",
      "Train model 18/20\n",
      "Train model 19/20\n",
      "Train model 20/20\n",
      "Train model 1/20\n",
      "Train model 2/20\n",
      "Train model 3/20\n",
      "Train model 4/20\n",
      "Train model 5/20\n",
      "Train model 6/20\n",
      "Train model 7/20\n",
      "Train model 8/20\n",
      "Train model 9/20\n",
      "Train model 10/20\n",
      "Train model 11/20\n",
      "Train model 12/20\n",
      "Train model 13/20\n",
      "Train model 14/20\n",
      "Train model 15/20\n",
      "Train model 16/20\n",
      "Train model 17/20\n",
      "Train model 18/20\n",
      "Train model 19/20\n",
      "Train model 20/20\n",
      "                     r2                     mse                 mae\n",
      "oracle  -340.29 ± 11.08   2320485.85 ± 58415.44   13437.16 ± 210.08\n",
      "naive   -322.94 ± 83.28  2530609.58 ± 487200.93  13845.17 ± 1581.43\n",
      "dge       -304.5 ± 9.65   2460573.38 ± 58665.23   13664.94 ± 206.67\n"
     ]
    }
   ],
   "source": [
    "from DGE_experiments import model_evaluation_experiment\n",
    "\n",
    "if X_gt.targettype is not None:\n",
    "    print('Aggregate approaches:')\n",
    "    res = model_evaluation_experiment(X_gt, X_syns, workspace_folder=workspace_folder, model_type='mlp')[0]\n",
    "    print(res)\n"
   ]
  },
  {
   "attachments": {},
   "cell_type": "markdown",
   "metadata": {},
   "source": [
    "# Model Selection\n",
    "Essentially repeat the above for different models"
   ]
  },
  {
   "cell_type": "code",
   "execution_count": null,
   "metadata": {},
   "outputs": [
    {
     "ename": "KeyError",
     "evalue": "'accuracy'",
     "output_type": "error",
     "traceback": [
      "\u001b[0;31m---------------------------------------------------------------------------\u001b[0m",
      "\u001b[0;31mKeyError\u001b[0m                                  Traceback (most recent call last)",
      "File \u001b[0;32m~/miniconda/envs/test_env/lib/python3.8/site-packages/pandas/core/indexes/base.py:3803\u001b[0m, in \u001b[0;36mIndex.get_loc\u001b[0;34m(self, key, method, tolerance)\u001b[0m\n\u001b[1;32m   3802\u001b[0m \u001b[39mtry\u001b[39;00m:\n\u001b[0;32m-> 3803\u001b[0m     \u001b[39mreturn\u001b[39;00m \u001b[39mself\u001b[39;49m\u001b[39m.\u001b[39;49m_engine\u001b[39m.\u001b[39;49mget_loc(casted_key)\n\u001b[1;32m   3804\u001b[0m \u001b[39mexcept\u001b[39;00m \u001b[39mKeyError\u001b[39;00m \u001b[39mas\u001b[39;00m err:\n",
      "File \u001b[0;32m~/miniconda/envs/test_env/lib/python3.8/site-packages/pandas/_libs/index.pyx:138\u001b[0m, in \u001b[0;36mpandas._libs.index.IndexEngine.get_loc\u001b[0;34m()\u001b[0m\n",
      "File \u001b[0;32m~/miniconda/envs/test_env/lib/python3.8/site-packages/pandas/_libs/index.pyx:165\u001b[0m, in \u001b[0;36mpandas._libs.index.IndexEngine.get_loc\u001b[0;34m()\u001b[0m\n",
      "File \u001b[0;32mpandas/_libs/hashtable_class_helper.pxi:5745\u001b[0m, in \u001b[0;36mpandas._libs.hashtable.PyObjectHashTable.get_item\u001b[0;34m()\u001b[0m\n",
      "File \u001b[0;32mpandas/_libs/hashtable_class_helper.pxi:5753\u001b[0m, in \u001b[0;36mpandas._libs.hashtable.PyObjectHashTable.get_item\u001b[0;34m()\u001b[0m\n",
      "\u001b[0;31mKeyError\u001b[0m: 'accuracy'",
      "\nThe above exception was the direct cause of the following exception:\n",
      "\u001b[0;31mKeyError\u001b[0m                                  Traceback (most recent call last)",
      "Cell \u001b[0;32mIn [9], line 8\u001b[0m\n\u001b[1;32m      6\u001b[0m \u001b[39melse\u001b[39;00m:\n\u001b[1;32m      7\u001b[0m     metric \u001b[39m=\u001b[39m \u001b[39m'\u001b[39m\u001b[39mmse\u001b[39m\u001b[39m'\u001b[39m\n\u001b[0;32m----> 8\u001b[0m results, means_sorted \u001b[39m=\u001b[39m model_selection_experiment(X_gt, X_syns, relative\u001b[39m=\u001b[39;49m\u001b[39mFalse\u001b[39;49;00m, metric\u001b[39m=\u001b[39;49mmetric, workspace_folder\u001b[39m=\u001b[39;49mworkspace_folder)\n",
      "File \u001b[0;32m~/synthcity/DGE_experiments.py:158\u001b[0m, in \u001b[0;36mmodel_selection_experiment\u001b[0;34m(X_gt, X_syns, relative, workspace_folder, metric, load, save)\u001b[0m\n\u001b[1;32m    156\u001b[0m \u001b[39mfor\u001b[39;00m i, model_type \u001b[39min\u001b[39;00m \u001b[39menumerate\u001b[39m(model_types):\n\u001b[1;32m    157\u001b[0m     res, mean, _ \u001b[39m=\u001b[39m model_evaluation_experiment(X_gt, X_syns, model_type, workspace_folder\u001b[39m=\u001b[39mworkspace_folder, relative\u001b[39m=\u001b[39mrelative, load\u001b[39m=\u001b[39mload, save\u001b[39m=\u001b[39msave)\n\u001b[0;32m--> 158\u001b[0m     results\u001b[39m.\u001b[39mappend(res[metric])\n\u001b[1;32m    159\u001b[0m     means\u001b[39m.\u001b[39mappend(mean[metric])\n\u001b[1;32m    161\u001b[0m means \u001b[39m=\u001b[39m pd\u001b[39m.\u001b[39mconcat(means, axis\u001b[39m=\u001b[39m\u001b[39m1\u001b[39m)\n",
      "File \u001b[0;32m~/miniconda/envs/test_env/lib/python3.8/site-packages/pandas/core/frame.py:3805\u001b[0m, in \u001b[0;36mDataFrame.__getitem__\u001b[0;34m(self, key)\u001b[0m\n\u001b[1;32m   3803\u001b[0m \u001b[39mif\u001b[39;00m \u001b[39mself\u001b[39m\u001b[39m.\u001b[39mcolumns\u001b[39m.\u001b[39mnlevels \u001b[39m>\u001b[39m \u001b[39m1\u001b[39m:\n\u001b[1;32m   3804\u001b[0m     \u001b[39mreturn\u001b[39;00m \u001b[39mself\u001b[39m\u001b[39m.\u001b[39m_getitem_multilevel(key)\n\u001b[0;32m-> 3805\u001b[0m indexer \u001b[39m=\u001b[39m \u001b[39mself\u001b[39;49m\u001b[39m.\u001b[39;49mcolumns\u001b[39m.\u001b[39;49mget_loc(key)\n\u001b[1;32m   3806\u001b[0m \u001b[39mif\u001b[39;00m is_integer(indexer):\n\u001b[1;32m   3807\u001b[0m     indexer \u001b[39m=\u001b[39m [indexer]\n",
      "File \u001b[0;32m~/miniconda/envs/test_env/lib/python3.8/site-packages/pandas/core/indexes/base.py:3805\u001b[0m, in \u001b[0;36mIndex.get_loc\u001b[0;34m(self, key, method, tolerance)\u001b[0m\n\u001b[1;32m   3803\u001b[0m     \u001b[39mreturn\u001b[39;00m \u001b[39mself\u001b[39m\u001b[39m.\u001b[39m_engine\u001b[39m.\u001b[39mget_loc(casted_key)\n\u001b[1;32m   3804\u001b[0m \u001b[39mexcept\u001b[39;00m \u001b[39mKeyError\u001b[39;00m \u001b[39mas\u001b[39;00m err:\n\u001b[0;32m-> 3805\u001b[0m     \u001b[39mraise\u001b[39;00m \u001b[39mKeyError\u001b[39;00m(key) \u001b[39mfrom\u001b[39;00m \u001b[39merr\u001b[39;00m\n\u001b[1;32m   3806\u001b[0m \u001b[39mexcept\u001b[39;00m \u001b[39mTypeError\u001b[39;00m:\n\u001b[1;32m   3807\u001b[0m     \u001b[39m# If we have a listlike key, _check_indexing_error will raise\u001b[39;00m\n\u001b[1;32m   3808\u001b[0m     \u001b[39m#  InvalidIndexError. Otherwise we fall through and re-raise\u001b[39;00m\n\u001b[1;32m   3809\u001b[0m     \u001b[39m#  the TypeError.\u001b[39;00m\n\u001b[1;32m   3810\u001b[0m     \u001b[39mself\u001b[39m\u001b[39m.\u001b[39m_check_indexing_error(key)\n",
      "\u001b[0;31mKeyError\u001b[0m: 'accuracy'"
     ]
    }
   ],
   "source": [
    "from DGE_experiments import model_selection_experiment\n",
    "\n",
    "if X_gt.targettype is not None:\n",
    "    if X_gt.targettype == 'classification':\n",
    "        metric = 'accuracy'\n",
    "    else:\n",
    "        metric = 'mse'\n",
    "    results, means_sorted = model_selection_experiment(X_gt, X_syns, relative=False, metric=metric, workspace_folder=workspace_folder)\n"
   ]
  },
  {
   "attachments": {},
   "cell_type": "markdown",
   "metadata": {},
   "source": [
    "# Cross validation\n",
    "\n",
    "We compare the single baseline model vs the generative uncertainty model. Single workflow\n",
    "1. Take each synthetic dataset $S_i$ and split it up in train and test.\n",
    "2. Train a model $f_i$ on the train set, for each $S_i$\n",
    "3. Evaluate on the same synthetic datasets test set $S_{i,test}$\n",
    "4. Evaluate on the true real test set (oracle), $D_{test}$, giving $\\hat{M}_i$\n",
    "5. Average results across the different synthetic datasets, giving $M_i$.\n",
    "6. Compute the deviation from the oracle, $||M_i - \\hat{M}_i||$ and average.\n",
    "\n",
    "Versus our baseline\n",
    "1. Take each synthetic dataset $S_i$ and split it up in train and test\n",
    "2. Train a model $f_i$ on the train set, for each $S_i$\n",
    "3. Evaluate on the same synthetic datasets test set $S_{i,test}\n",
    "4. Evaluate on the true real test set (oracle), $D_{test}$, giving $\\hat{M}_i$\n",
    "5. Average results across the different synthetic datasets, giving $M_i$.\n",
    "6. Compute the deviation from the oracle, $||M_i - \\hat{M}_i||$ and average.\n",
    "\n",
    "\n",
    "Cross-validation approach to test which type of model would perform best on real data. We compare the single baseline model vs the generative uncertainty model vs an oracle. Workflow Cross-validation.\n",
    "0. Train and generate synthetic datasets $S_i$.\n",
    "1. Use CV to train and evaluate models $f_i$ on each $S_i$. Repeat for all $S_i$. [Single performance]\n",
    "2. Use CV \\textit{over datasets $S_i$} (i.e. train on all but one $S_i$, evaluate on remaining and repeat) to train and evaluate models $f_i$.\n",
    "3. For both cases, evaluate the model also on the true real test set (oracle), $D_{test}$, giving $M_i$ [Oracle performance]\n",
    "4. Compute the deviation from the oracle, $||M_i - \\hat{M}_i||$ and average over all models $f_i$. "
   ]
  },
  {
   "attachments": {},
   "cell_type": "markdown",
   "metadata": {},
   "source": [
    "# Model parameter estimation\n",
    "Using a linear model"
   ]
  },
  {
   "cell_type": "code",
   "execution_count": null,
   "metadata": {},
   "outputs": [],
   "source": []
  }
 ],
 "metadata": {
  "kernelspec": {
   "display_name": "Python 3.8.13 ('test_env')",
   "language": "python",
   "name": "python3"
  },
  "language_info": {
   "codemirror_mode": {
    "name": "ipython",
    "version": 3
   },
   "file_extension": ".py",
   "mimetype": "text/x-python",
   "name": "python",
   "nbconvert_exporter": "python",
   "pygments_lexer": "ipython3",
   "version": "3.8.13"
  },
  "orig_nbformat": 4,
  "vscode": {
   "interpreter": {
    "hash": "0f2c99a57bac5efacecfbabca5467a1b952b0d9c1ae060d8550953085427f683"
   }
  }
 },
 "nbformat": 4,
 "nbformat_minor": 2
}
