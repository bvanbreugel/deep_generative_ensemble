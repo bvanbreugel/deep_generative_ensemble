{
 "cells": [
  {
   "cell_type": "markdown",
   "metadata": {},
   "source": [
    "# Import modules"
   ]
  },
  {
   "cell_type": "code",
   "execution_count": 1,
   "metadata": {},
   "outputs": [
    {
     "name": "stderr",
     "output_type": "stream",
     "text": [
      "/home/bv292/miniconda/envs/test_env/lib/python3.8/site-packages/tqdm/auto.py:22: TqdmWarning: IProgress not found. Please update jupyter and ipywidgets. See https://ipywidgets.readthedocs.io/en/stable/user_install.html\n",
      "  from .autonotebook import tqdm as notebook_tqdm\n"
     ]
    },
    {
     "data": {
      "text/plain": [
       "['copulagan',\n",
       " 'tvae',\n",
       " 'privbayes',\n",
       " 'pategan',\n",
       " 'rtvae',\n",
       " 'bayesian_network',\n",
       " 'dpgan',\n",
       " 'adsgan',\n",
       " 'gaussian_copula',\n",
       " 'ctgan',\n",
       " 'sdv_tvae',\n",
       " 'nflow',\n",
       " 'sdv_ctgan']"
      ]
     },
     "execution_count": 1,
     "metadata": {},
     "output_type": "execute_result"
    }
   ],
   "source": [
    "from sklearn.datasets import load_diabetes\n",
    "import pickle\n",
    "import pandas as pd\n",
    "import numpy as np\n",
    "import sklearn\n",
    "import matplotlib.pyplot as plt\n",
    "from sklearn.datasets import load_iris\n",
    "import os\n",
    "\n",
    "\n",
    "from synthcity.metrics.eval_performance import (\n",
    "    PerformanceEvaluatorMLP,\n",
    "    PerformanceEvaluatorXGB,\n",
    ")\n",
    "from synthcity.utils import reproducibility\n",
    "from synthcity.plugins import Plugins\n",
    "import synthcity.logger as log\n",
    "from synthcity.plugins.core.dataloader import GenericDataLoader\n",
    "\n",
    "from bnaf.toy2d import main as bnaf\n",
    "\n",
    "\n",
    "\n",
    "Plugins(categories=[\"generic\"]).list()"
   ]
  },
  {
   "cell_type": "markdown",
   "metadata": {},
   "source": [
    "# Load data and settings"
   ]
  },
  {
   "cell_type": "code",
   "execution_count": 2,
   "metadata": {},
   "outputs": [
    {
     "name": "stdout",
     "output_type": "stream",
     "text": [
      "2000\n"
     ]
    }
   ],
   "source": [
    "from sklearn.datasets import load_iris\n",
    "from sklearn.datasets import load_diabetes\n",
    "from sklearn.datasets import load_boston\n",
    "from sklearn.datasets import load_breast_cancer\n",
    "from sklearn.datasets import load_wine\n",
    "from sklearn.datasets import load_digits\n",
    "from sklearn.datasets import make_moons\n",
    "from bnaf.data.generate2d import sample2d\n",
    "\n",
    "dataset = 'checkerboard'\n",
    "p_train = 0.5\n",
    "nsyn = 5000\n",
    "\n",
    "if dataset=='diabetes':\n",
    "    X, y = load_diabetes(return_X_y=True, as_frame=True)\n",
    "elif dataset=='iris':\n",
    "    X, y = load_iris(return_X_y=True, as_frame=True)\n",
    "elif dataset=='boston':\n",
    "    X, y = load_boston(return_X_y=True, as_frame=True)\n",
    "elif dataset=='breast_cancer':\n",
    "    X, y = load_breast_cancer(return_X_y=True, as_frame=True)\n",
    "elif dataset=='wine':\n",
    "    X, y = load_wine(return_X_y=True, as_frame=True)\n",
    "elif dataset=='digits':\n",
    "    X, y = load_digits(return_X_y=True, as_frame=True)\n",
    "elif dataset=='moons':\n",
    "    X, y = make_moons(n_samples=2000, noise=0.2, random_state=0)\n",
    "    X = pd.DataFrame(X)\n",
    "    p_train = 0.1\n",
    "elif dataset in [\"8gaussians\", \"2spirals\", \"checkerboard\", \"t1\", \"t2\", \"t3\", \"t4\"]:\n",
    "    X = sample2d(dataset, 20000)\n",
    "    X = pd.DataFrame(X)\n",
    "    y = -np.ones(X.shape[0])\n",
    "    p_train = 0.1\n",
    "else:\n",
    "    raise ValueError('Unknown dataset')\n",
    "\n",
    "X[\"target\"] = y\n",
    "X_gt = GenericDataLoader(X, target_column=\"target\", train_size=p_train)\n",
    "\n",
    "if len(np.unique(y))==1:\n",
    "    X_gt.targettype = None\n",
    "elif len(np.unique(y))<=10:\n",
    "    X_gt.targettype = 'classification'\n",
    "else:\n",
    "    X_gt.targettype = 'regression'\n",
    "\n",
    "X_train, X_test = X_gt.train(), X_gt.test()\n",
    "\n",
    "n_train = X_train.shape[0]\n",
    "results_folder = \"uncertainty_results/\"+dataset\n",
    "n_models = 20\n",
    "load = True\n",
    "print(n_train)\n",
    "\n"
   ]
  },
  {
   "cell_type": "markdown",
   "metadata": {},
   "source": [
    "# Generate data"
   ]
  },
  {
   "cell_type": "code",
   "execution_count": 3,
   "metadata": {},
   "outputs": [],
   "source": [
    "for i in range(n_models):\n",
    "    os.makedirs(results_folder, exist_ok=True)\n",
    "    filename = f\"{results_folder}/Xsyn_n{n_train}_seed{i}.pkl\"\n",
    "    # filename2 = f\"{results_folder}/X_syn_{i}.pkl\"\n",
    "    # if os.path.exists(filename2):\n",
    "    #     os.rename(filename2, filename)    \n",
    "    if os.path.exists(filename) and load:\n",
    "        continue\n",
    "    print(f\"Training model {i+1}/{n_models}\")\n",
    "\n",
    "    syn_model = Plugins().get('tvae')\n",
    "    reproducibility.enable_reproducible_results(seed=i)\n",
    "    syn_model.fit(X_train)\n",
    "    X_syn = syn_model.generate(count = nsyn)\n",
    "    # save X_syn to disk as pickle\n",
    "    pickle.dump(X_syn, open(filename, \"wb\"))\n",
    "\n",
    "\n",
    "\n"
   ]
  },
  {
   "cell_type": "markdown",
   "metadata": {},
   "source": [
    "# Load data"
   ]
  },
  {
   "cell_type": "code",
   "execution_count": 4,
   "metadata": {},
   "outputs": [],
   "source": [
    "X_syns = []\n",
    "for i in range(n_models):\n",
    "    # load X_syn from disk as pickle\n",
    "    X_syn = pickle.load(open(f\"{results_folder}/Xsyn_n{n_train}_seed{i}.pkl\", \"rb\"))\n",
    "    X_syns.append(X_syn)"
   ]
  },
  {
   "cell_type": "markdown",
   "metadata": {},
   "source": [
    "# Analyses\n",
    "## Some function definitions"
   ]
  },
  {
   "cell_type": "code",
   "execution_count": 5,
   "metadata": {},
   "outputs": [],
   "source": [
    "\n",
    "def prediction_task(X_gt, X_syn, model=None):\n",
    "    if type(model)==str or model is None:\n",
    "        if model=='mlp' or model is None:\n",
    "            if X_gt.targettype == 'classification':\n",
    "                model = sklearn.neural_network.MLPClassifier()\n",
    "            else:\n",
    "                model = sklearn.neural_network.MLPRegressor()\n",
    "        elif model=='rf':\n",
    "            if X_gt.targettype == 'classification':\n",
    "                model = sklearn.ensemble.RandomForestClassifier()\n",
    "            else:\n",
    "                model = sklearn.ensemble.RandomForestRegressor()\n",
    "        X, y = X_syn.unpack(as_numpy=True)\n",
    "        model.fit(X, y.reshape(-1,1))\n",
    "    pred = model.predict(X_gt.unpack(as_numpy=True)[0])\n",
    "    return pred, model\n",
    "\n",
    "\n",
    "def meanstd(A):\n",
    "    return np.mean(A, axis=0), np.std(A, axis=0)\n",
    "\n",
    "\n",
    "def density_estimation(X_gt, X_syn, model=None):\n",
    "    model = bnaf(X_syn.unpack(as_numpy=True)[0])\n",
    "    return model(X_gt.unpack(as_numpy=True)[0]), model\n",
    "\n",
    "def aggregate(X_gt, X_syns, task, models=None):\n",
    "    results = []\n",
    "    trained_models = []\n",
    "    for i in range(len(X_syns)):\n",
    "        if models is None:\n",
    "            model = None\n",
    "        else:\n",
    "            model = models[i]\n",
    "        res, model = task(X_gt, X_syns[i], model)\n",
    "        results.append(res)\n",
    "        trained_models.append(model)\n",
    "    return *meanstd(results), trained_models\n",
    "\n",
    "def tsne(X):\n",
    "    from sklearn.manifold import TSNE\n",
    "    tsne = TSNE(n_components=2, random_state=0)\n",
    "    X_2d = tsne.fit_transform(X)\n",
    "    return X_2d\n",
    "\n",
    "def aggregate_imshow(X_gt, X_syns, task, models=None):\n",
    "    xmin, ymin = np.min(X_gt.unpack(as_numpy=True)[0], axis=0)*1.5\n",
    "    xmax, ymax = np.max(X_gt.unpack(as_numpy=True)[0], axis=0)*1.5\n",
    "    \n",
    "    steps = 400\n",
    "    X_grid = np.linspace(xmin, xmax, steps)\n",
    "    Y_grid = np.linspace(ymin, ymax, steps)\n",
    "\n",
    "    X_grid, Y_grid = np.meshgrid(X_grid, Y_grid)\n",
    "    X_grid = pd.DataFrame(np.c_[X_grid.ravel(), Y_grid.ravel()])\n",
    "    X_grid['target'] = -1\n",
    "    X_grid = GenericDataLoader(X_grid, target_column=\"target\", train_size=0.01)\n",
    "\n",
    "    y_pred_mean, y_pred_std, models = aggregate(X_grid, X_syns, task, models)\n",
    "\n",
    "    for y, name in zip((y_pred_mean, y_pred_std), ('mean', 'std')):\n",
    "        plt.figure(figsize=(8,6), dpi=100)\n",
    "        plt.imshow(y.reshape(steps,steps)[::-1], cmap='viridis', extent=[xmin, xmax, ymin, ymax])\n",
    "        X_train, y_train = X_gt.train().unpack(as_numpy=True)\n",
    "        if len(np.unique(y_train))==2:\n",
    "            y_train = y_train.astype(bool)        \n",
    "            plt.scatter(X_train[y_train,0], X_train[y_train,1], c='k', marker='.')\n",
    "            plt.scatter(X_train[~y_train,0], X_train[~y_train,1], c='w', marker='.')\n",
    "        plt.colorbar()\n",
    "        plt.show()\n",
    "\n"
   ]
  },
  {
   "cell_type": "markdown",
   "metadata": {},
   "source": [
    "## Predictions across models"
   ]
  },
  {
   "cell_type": "code",
   "execution_count": 6,
   "metadata": {},
   "outputs": [],
   "source": [
    "if X_gt.targettype is not None:\n",
    "    X_test = X_gt.test()\n",
    "    X_test.targettype = X_gt.targettype\n",
    "    y_pred_mean, y_pred_std, models = aggregate(X_test, X_syns, prediction_task, models=['mlp']*len(X_syns))\n",
    "\n",
    "    print('Predictions on test set:')\n",
    "    X, y = X_gt.test().unpack(as_numpy=True)\n",
    "    if X.shape[1]>2:\n",
    "        Xplot = tsne(X)\n",
    "    else:\n",
    "        Xplot = X\n",
    "    for y in [y_pred_mean, y_pred_std]:\n",
    "        plt.scatter(Xplot[:,0], Xplot[:,1], c=y, cmap='viridis')\n",
    "        plt.colorbar()\n",
    "        plt.show()\n",
    "    \n",
    "    print('Predictions on full space:')\n",
    "    aggregate_imshow(X_gt, X_syns, prediction_task, models)\n"
   ]
  },
  {
   "cell_type": "markdown",
   "metadata": {},
   "source": [
    "## Density estimation\n",
    "We ignore the target and regard density estimation as the downstream task. We use the flow-based BNAF from Cao as DE method."
   ]
  },
  {
   "cell_type": "code",
   "execution_count": 9,
   "metadata": {},
   "outputs": [
    {
     "name": "stdout",
     "output_type": "stream",
     "text": [
      "Namespace(batch_dim=200, clip_norm=0.1, dataset='8gaussians', decay=0.5, device='cuda:0', experiment='density2d', expname='', flows=5, hidden_dim=50, layers=3, learning_rate=0.1, load=None, patience=2000, reduce_extreme=False, save=False, savefig=False, steps=20000)\n"
     ]
    }
   ],
   "source": [
    "from bnaf.toy2d import parse\n",
    "x = parse()\n",
    "print(x)"
   ]
  },
  {
   "cell_type": "code",
   "execution_count": null,
   "metadata": {},
   "outputs": [
    {
     "name": "stderr",
     "output_type": "stream",
     "text": [
      "usage: ipykernel_launcher.py [-h] [--device DEVICE]\n",
      "                             [--dataset {8gaussians,2spirals,checkerboard,t1,t2,t3,t4}]\n",
      "                             [--experiment {density2d,energy2d}]\n",
      "                             [--learning_rate LEARNING_RATE]\n",
      "                             [--batch_dim BATCH_DIM] [--clip_norm CLIP_NORM]\n",
      "                             [--steps STEPS] [--patience PATIENCE]\n",
      "                             [--decay DECAY] [--flows FLOWS] [--layers LAYERS]\n",
      "                             [--hidden_dim HIDDEN_DIM] [--expname EXPNAME]\n",
      "                             [--load LOAD] [--save] [--savefig]\n",
      "                             [--reduce_extreme]\n",
      "ipykernel_launcher.py: error: argument --flows: invalid int value: '/home/bv292/.local/share/jupyter/runtime/kernel-v2-506VOGHrI8jrdHu.json'\n"
     ]
    },
    {
     "ename": "AssertionError",
     "evalue": "",
     "output_type": "error",
     "traceback": [
      "\u001b[0;31m---------------------------------------------------------------------------\u001b[0m",
      "\u001b[0;31mValueError\u001b[0m                                Traceback (most recent call last)",
      "File \u001b[0;32m~/miniconda/envs/test_env/lib/python3.8/argparse.py:2422\u001b[0m, in \u001b[0;36mArgumentParser._get_value\u001b[0;34m(self, action, arg_string)\u001b[0m\n\u001b[1;32m   2421\u001b[0m \u001b[39mtry\u001b[39;00m:\n\u001b[0;32m-> 2422\u001b[0m     result \u001b[39m=\u001b[39m type_func(arg_string)\n\u001b[1;32m   2424\u001b[0m \u001b[39m# ArgumentTypeErrors indicate errors\u001b[39;00m\n",
      "\u001b[0;31mValueError\u001b[0m: invalid literal for int() with base 10: '/home/bv292/.local/share/jupyter/runtime/kernel-v2-506VOGHrI8jrdHu.json'",
      "\nDuring handling of the above exception, another exception occurred:\n",
      "\u001b[0;31mArgumentError\u001b[0m                             Traceback (most recent call last)",
      "File \u001b[0;32m~/miniconda/envs/test_env/lib/python3.8/argparse.py:1800\u001b[0m, in \u001b[0;36mArgumentParser.parse_known_args\u001b[0;34m(self, args, namespace)\u001b[0m\n\u001b[1;32m   1799\u001b[0m \u001b[39mtry\u001b[39;00m:\n\u001b[0;32m-> 1800\u001b[0m     namespace, args \u001b[39m=\u001b[39m \u001b[39mself\u001b[39;49m\u001b[39m.\u001b[39;49m_parse_known_args(args, namespace)\n\u001b[1;32m   1801\u001b[0m     \u001b[39mif\u001b[39;00m \u001b[39mhasattr\u001b[39m(namespace, _UNRECOGNIZED_ARGS_ATTR):\n",
      "File \u001b[0;32m~/miniconda/envs/test_env/lib/python3.8/argparse.py:2006\u001b[0m, in \u001b[0;36mArgumentParser._parse_known_args\u001b[0;34m(self, arg_strings, namespace)\u001b[0m\n\u001b[1;32m   2005\u001b[0m     \u001b[39m# consume the next optional and any arguments for it\u001b[39;00m\n\u001b[0;32m-> 2006\u001b[0m     start_index \u001b[39m=\u001b[39m consume_optional(start_index)\n\u001b[1;32m   2008\u001b[0m \u001b[39m# consume any positionals following the last Optional\u001b[39;00m\n",
      "File \u001b[0;32m~/miniconda/envs/test_env/lib/python3.8/argparse.py:1946\u001b[0m, in \u001b[0;36mArgumentParser._parse_known_args.<locals>.consume_optional\u001b[0;34m(start_index)\u001b[0m\n\u001b[1;32m   1945\u001b[0m \u001b[39mfor\u001b[39;00m action, args, option_string \u001b[39min\u001b[39;00m action_tuples:\n\u001b[0;32m-> 1946\u001b[0m     take_action(action, args, option_string)\n\u001b[1;32m   1947\u001b[0m \u001b[39mreturn\u001b[39;00m stop\n",
      "File \u001b[0;32m~/miniconda/envs/test_env/lib/python3.8/argparse.py:1858\u001b[0m, in \u001b[0;36mArgumentParser._parse_known_args.<locals>.take_action\u001b[0;34m(action, argument_strings, option_string)\u001b[0m\n\u001b[1;32m   1857\u001b[0m seen_actions\u001b[39m.\u001b[39madd(action)\n\u001b[0;32m-> 1858\u001b[0m argument_values \u001b[39m=\u001b[39m \u001b[39mself\u001b[39;49m\u001b[39m.\u001b[39;49m_get_values(action, argument_strings)\n\u001b[1;32m   1860\u001b[0m \u001b[39m# error if this argument is not allowed with other previously\u001b[39;00m\n\u001b[1;32m   1861\u001b[0m \u001b[39m# seen arguments, assuming that actions that use the default\u001b[39;00m\n\u001b[1;32m   1862\u001b[0m \u001b[39m# value don't really count as \"present\"\u001b[39;00m\n",
      "File \u001b[0;32m~/miniconda/envs/test_env/lib/python3.8/argparse.py:2389\u001b[0m, in \u001b[0;36mArgumentParser._get_values\u001b[0;34m(self, action, arg_strings)\u001b[0m\n\u001b[1;32m   2388\u001b[0m arg_string, \u001b[39m=\u001b[39m arg_strings\n\u001b[0;32m-> 2389\u001b[0m value \u001b[39m=\u001b[39m \u001b[39mself\u001b[39;49m\u001b[39m.\u001b[39;49m_get_value(action, arg_string)\n\u001b[1;32m   2390\u001b[0m \u001b[39mself\u001b[39m\u001b[39m.\u001b[39m_check_value(action, value)\n",
      "File \u001b[0;32m~/miniconda/envs/test_env/lib/python3.8/argparse.py:2435\u001b[0m, in \u001b[0;36mArgumentParser._get_value\u001b[0;34m(self, action, arg_string)\u001b[0m\n\u001b[1;32m   2434\u001b[0m     msg \u001b[39m=\u001b[39m _(\u001b[39m'\u001b[39m\u001b[39minvalid \u001b[39m\u001b[39m%(type)s\u001b[39;00m\u001b[39m value: \u001b[39m\u001b[39m%(value)r\u001b[39;00m\u001b[39m'\u001b[39m)\n\u001b[0;32m-> 2435\u001b[0m     \u001b[39mraise\u001b[39;00m ArgumentError(action, msg \u001b[39m%\u001b[39m args)\n\u001b[1;32m   2437\u001b[0m \u001b[39m# return the converted value\u001b[39;00m\n",
      "\u001b[0;31mArgumentError\u001b[0m: argument --flows: invalid int value: '/home/bv292/.local/share/jupyter/runtime/kernel-v2-506VOGHrI8jrdHu.json'",
      "\nDuring handling of the above exception, another exception occurred:\n",
      "\u001b[0;31mSystemExit\u001b[0m                                Traceback (most recent call last)",
      "    \u001b[0;31m[... skipping hidden 1 frame]\u001b[0m\n",
      "Cell \u001b[0;32mIn [9], line 4\u001b[0m\n\u001b[1;32m      3\u001b[0m     X_test\u001b[39m.\u001b[39mtargettype \u001b[39m=\u001b[39m X_gt\u001b[39m.\u001b[39mtargettype\n\u001b[0;32m----> 4\u001b[0m     y_pred_mean, y_pred_std, models \u001b[39m=\u001b[39m aggregate_imshow(X_test, X_syns, density_estimation)\n\u001b[1;32m      6\u001b[0m density_estimation(X_gt, X_syns[\u001b[39m0\u001b[39m])\n",
      "Cell \u001b[0;32mIn [5], line 59\u001b[0m, in \u001b[0;36maggregate_imshow\u001b[0;34m(X_gt, X_syns, task, models)\u001b[0m\n\u001b[1;32m     57\u001b[0m X_grid \u001b[39m=\u001b[39m GenericDataLoader(X_grid, target_column\u001b[39m=\u001b[39m\u001b[39m\"\u001b[39m\u001b[39mtarget\u001b[39m\u001b[39m\"\u001b[39m, train_size\u001b[39m=\u001b[39m\u001b[39m0.01\u001b[39m)\n\u001b[0;32m---> 59\u001b[0m y_pred_mean, y_pred_std, models \u001b[39m=\u001b[39m aggregate(X_grid, X_syns, task, models)\n\u001b[1;32m     61\u001b[0m \u001b[39mfor\u001b[39;00m y, name \u001b[39min\u001b[39;00m \u001b[39mzip\u001b[39m((y_pred_mean, y_pred_std), (\u001b[39m'\u001b[39m\u001b[39mmean\u001b[39m\u001b[39m'\u001b[39m, \u001b[39m'\u001b[39m\u001b[39mstd\u001b[39m\u001b[39m'\u001b[39m)):\n",
      "Cell \u001b[0;32mIn [5], line 35\u001b[0m, in \u001b[0;36maggregate\u001b[0;34m(X_gt, X_syns, task, models)\u001b[0m\n\u001b[1;32m     34\u001b[0m     model \u001b[39m=\u001b[39m models[i]\n\u001b[0;32m---> 35\u001b[0m res, model \u001b[39m=\u001b[39m task(X_gt, X_syns[i], model)\n\u001b[1;32m     36\u001b[0m results\u001b[39m.\u001b[39mappend(res)\n",
      "Cell \u001b[0;32mIn [5], line 24\u001b[0m, in \u001b[0;36mdensity_estimation\u001b[0;34m(X_gt, X_syn, model)\u001b[0m\n\u001b[1;32m     23\u001b[0m \u001b[39mdef\u001b[39;00m \u001b[39mdensity_estimation\u001b[39m(X_gt, X_syn, model\u001b[39m=\u001b[39m\u001b[39mNone\u001b[39;00m):\n\u001b[0;32m---> 24\u001b[0m     model \u001b[39m=\u001b[39m bnaf(X_syn\u001b[39m.\u001b[39;49munpack(as_numpy\u001b[39m=\u001b[39;49m\u001b[39mTrue\u001b[39;49;00m)[\u001b[39m0\u001b[39;49m])\n\u001b[1;32m     25\u001b[0m     \u001b[39mreturn\u001b[39;00m model(X_gt\u001b[39m.\u001b[39munpack(as_numpy\u001b[39m=\u001b[39m\u001b[39mTrue\u001b[39;00m)[\u001b[39m0\u001b[39m]), model\n",
      "File \u001b[0;32m~/synthcity/bnaf/toy2d.py:249\u001b[0m, in \u001b[0;36mmain\u001b[0;34m(data)\u001b[0m\n\u001b[1;32m    248\u001b[0m \u001b[39mdef\u001b[39;00m \u001b[39mmain\u001b[39m(data\u001b[39m=\u001b[39m\u001b[39mNone\u001b[39;00m):\n\u001b[0;32m--> 249\u001b[0m     args \u001b[39m=\u001b[39m parse()\n\u001b[1;32m    250\u001b[0m     \u001b[39mprint\u001b[39m(\u001b[39m\"\u001b[39m\u001b[39mArguments:\u001b[39m\u001b[39m\"\u001b[39m)\n",
      "File \u001b[0;32m~/synthcity/bnaf/toy2d.py:244\u001b[0m, in \u001b[0;36mparse\u001b[0;34m()\u001b[0m\n\u001b[1;32m    243\u001b[0m parser\u001b[39m.\u001b[39madd_argument(\u001b[39m\"\u001b[39m\u001b[39m--reduce_extreme\u001b[39m\u001b[39m\"\u001b[39m, action\u001b[39m=\u001b[39m\u001b[39m\"\u001b[39m\u001b[39mstore_true\u001b[39m\u001b[39m\"\u001b[39m)\n\u001b[0;32m--> 244\u001b[0m args \u001b[39m=\u001b[39m parser\u001b[39m.\u001b[39;49mparse_args()\n\u001b[1;32m    245\u001b[0m \u001b[39mreturn\u001b[39;00m args\n",
      "File \u001b[0;32m~/miniconda/envs/test_env/lib/python3.8/argparse.py:1768\u001b[0m, in \u001b[0;36mArgumentParser.parse_args\u001b[0;34m(self, args, namespace)\u001b[0m\n\u001b[1;32m   1767\u001b[0m \u001b[39mdef\u001b[39;00m \u001b[39mparse_args\u001b[39m(\u001b[39mself\u001b[39m, args\u001b[39m=\u001b[39m\u001b[39mNone\u001b[39;00m, namespace\u001b[39m=\u001b[39m\u001b[39mNone\u001b[39;00m):\n\u001b[0;32m-> 1768\u001b[0m     args, argv \u001b[39m=\u001b[39m \u001b[39mself\u001b[39;49m\u001b[39m.\u001b[39;49mparse_known_args(args, namespace)\n\u001b[1;32m   1769\u001b[0m     \u001b[39mif\u001b[39;00m argv:\n",
      "File \u001b[0;32m~/miniconda/envs/test_env/lib/python3.8/argparse.py:1807\u001b[0m, in \u001b[0;36mArgumentParser.parse_known_args\u001b[0;34m(self, args, namespace)\u001b[0m\n\u001b[1;32m   1806\u001b[0m err \u001b[39m=\u001b[39m _sys\u001b[39m.\u001b[39mexc_info()[\u001b[39m1\u001b[39m]\n\u001b[0;32m-> 1807\u001b[0m \u001b[39mself\u001b[39;49m\u001b[39m.\u001b[39;49merror(\u001b[39mstr\u001b[39;49m(err))\n",
      "File \u001b[0;32m~/miniconda/envs/test_env/lib/python3.8/argparse.py:2521\u001b[0m, in \u001b[0;36mArgumentParser.error\u001b[0;34m(self, message)\u001b[0m\n\u001b[1;32m   2520\u001b[0m args \u001b[39m=\u001b[39m {\u001b[39m'\u001b[39m\u001b[39mprog\u001b[39m\u001b[39m'\u001b[39m: \u001b[39mself\u001b[39m\u001b[39m.\u001b[39mprog, \u001b[39m'\u001b[39m\u001b[39mmessage\u001b[39m\u001b[39m'\u001b[39m: message}\n\u001b[0;32m-> 2521\u001b[0m \u001b[39mself\u001b[39;49m\u001b[39m.\u001b[39;49mexit(\u001b[39m2\u001b[39;49m, _(\u001b[39m'\u001b[39;49m\u001b[39m%(prog)s\u001b[39;49;00m\u001b[39m: error: \u001b[39;49m\u001b[39m%(message)s\u001b[39;49;00m\u001b[39m\\n\u001b[39;49;00m\u001b[39m'\u001b[39;49m) \u001b[39m%\u001b[39;49m args)\n",
      "File \u001b[0;32m~/miniconda/envs/test_env/lib/python3.8/argparse.py:2508\u001b[0m, in \u001b[0;36mArgumentParser.exit\u001b[0;34m(self, status, message)\u001b[0m\n\u001b[1;32m   2507\u001b[0m     \u001b[39mself\u001b[39m\u001b[39m.\u001b[39m_print_message(message, _sys\u001b[39m.\u001b[39mstderr)\n\u001b[0;32m-> 2508\u001b[0m _sys\u001b[39m.\u001b[39;49mexit(status)\n",
      "\u001b[0;31mSystemExit\u001b[0m: 2",
      "\nDuring handling of the above exception, another exception occurred:\n",
      "\u001b[0;31mAssertionError\u001b[0m                            Traceback (most recent call last)",
      "    \u001b[0;31m[... skipping hidden 1 frame]\u001b[0m\n",
      "File \u001b[0;32m~/miniconda/envs/test_env/lib/python3.8/site-packages/IPython/core/interactiveshell.py:1987\u001b[0m, in \u001b[0;36mInteractiveShell.showtraceback\u001b[0;34m(self, exc_tuple, filename, tb_offset, exception_only, running_compiled_code)\u001b[0m\n\u001b[1;32m   1984\u001b[0m \u001b[39mif\u001b[39;00m exception_only:\n\u001b[1;32m   1985\u001b[0m     stb \u001b[39m=\u001b[39m [\u001b[39m'\u001b[39m\u001b[39mAn exception has occurred, use \u001b[39m\u001b[39m%\u001b[39m\u001b[39mtb to see \u001b[39m\u001b[39m'\u001b[39m\n\u001b[1;32m   1986\u001b[0m            \u001b[39m'\u001b[39m\u001b[39mthe full traceback.\u001b[39m\u001b[39m\\n\u001b[39;00m\u001b[39m'\u001b[39m]\n\u001b[0;32m-> 1987\u001b[0m     stb\u001b[39m.\u001b[39mextend(\u001b[39mself\u001b[39;49m\u001b[39m.\u001b[39;49mInteractiveTB\u001b[39m.\u001b[39;49mget_exception_only(etype,\n\u001b[1;32m   1988\u001b[0m                                                      value))\n\u001b[1;32m   1989\u001b[0m \u001b[39melse\u001b[39;00m:\n\u001b[1;32m   1990\u001b[0m     \u001b[39mtry\u001b[39;00m:\n\u001b[1;32m   1991\u001b[0m         \u001b[39m# Exception classes can customise their traceback - we\u001b[39;00m\n\u001b[1;32m   1992\u001b[0m         \u001b[39m# use this in IPython.parallel for exceptions occurring\u001b[39;00m\n\u001b[1;32m   1993\u001b[0m         \u001b[39m# in the engines. This should return a list of strings.\u001b[39;00m\n",
      "File \u001b[0;32m~/miniconda/envs/test_env/lib/python3.8/site-packages/IPython/core/ultratb.py:579\u001b[0m, in \u001b[0;36mListTB.get_exception_only\u001b[0;34m(self, etype, value)\u001b[0m\n\u001b[1;32m    571\u001b[0m \u001b[39mdef\u001b[39;00m \u001b[39mget_exception_only\u001b[39m(\u001b[39mself\u001b[39m, etype, value):\n\u001b[1;32m    572\u001b[0m     \u001b[39m\"\"\"Only print the exception type and message, without a traceback.\u001b[39;00m\n\u001b[1;32m    573\u001b[0m \n\u001b[1;32m    574\u001b[0m \u001b[39m    Parameters\u001b[39;00m\n\u001b[0;32m   (...)\u001b[0m\n\u001b[1;32m    577\u001b[0m \u001b[39m    value : exception value\u001b[39;00m\n\u001b[1;32m    578\u001b[0m \u001b[39m    \"\"\"\u001b[39;00m\n\u001b[0;32m--> 579\u001b[0m     \u001b[39mreturn\u001b[39;00m ListTB\u001b[39m.\u001b[39;49mstructured_traceback(\u001b[39mself\u001b[39;49m, etype, value)\n",
      "File \u001b[0;32m~/miniconda/envs/test_env/lib/python3.8/site-packages/IPython/core/ultratb.py:446\u001b[0m, in \u001b[0;36mListTB.structured_traceback\u001b[0;34m(self, etype, evalue, etb, tb_offset, context)\u001b[0m\n\u001b[1;32m    443\u001b[0m     chained_exc_ids\u001b[39m.\u001b[39madd(\u001b[39mid\u001b[39m(exception[\u001b[39m1\u001b[39m]))\n\u001b[1;32m    444\u001b[0m     chained_exceptions_tb_offset \u001b[39m=\u001b[39m \u001b[39m0\u001b[39m\n\u001b[1;32m    445\u001b[0m     out_list \u001b[39m=\u001b[39m (\n\u001b[0;32m--> 446\u001b[0m         \u001b[39mself\u001b[39;49m\u001b[39m.\u001b[39;49mstructured_traceback(\n\u001b[1;32m    447\u001b[0m             etype, evalue, (etb, chained_exc_ids),\n\u001b[1;32m    448\u001b[0m             chained_exceptions_tb_offset, context)\n\u001b[1;32m    449\u001b[0m         \u001b[39m+\u001b[39m chained_exception_message\n\u001b[1;32m    450\u001b[0m         \u001b[39m+\u001b[39m out_list)\n\u001b[1;32m    452\u001b[0m \u001b[39mreturn\u001b[39;00m out_list\n",
      "File \u001b[0;32m~/miniconda/envs/test_env/lib/python3.8/site-packages/IPython/core/ultratb.py:1112\u001b[0m, in \u001b[0;36mAutoFormattedTB.structured_traceback\u001b[0;34m(self, etype, value, tb, tb_offset, number_of_lines_of_context)\u001b[0m\n\u001b[1;32m   1110\u001b[0m \u001b[39melse\u001b[39;00m:\n\u001b[1;32m   1111\u001b[0m     \u001b[39mself\u001b[39m\u001b[39m.\u001b[39mtb \u001b[39m=\u001b[39m tb\n\u001b[0;32m-> 1112\u001b[0m \u001b[39mreturn\u001b[39;00m FormattedTB\u001b[39m.\u001b[39;49mstructured_traceback(\n\u001b[1;32m   1113\u001b[0m     \u001b[39mself\u001b[39;49m, etype, value, tb, tb_offset, number_of_lines_of_context)\n",
      "File \u001b[0;32m~/miniconda/envs/test_env/lib/python3.8/site-packages/IPython/core/ultratb.py:1006\u001b[0m, in \u001b[0;36mFormattedTB.structured_traceback\u001b[0;34m(self, etype, value, tb, tb_offset, number_of_lines_of_context)\u001b[0m\n\u001b[1;32m   1003\u001b[0m mode \u001b[39m=\u001b[39m \u001b[39mself\u001b[39m\u001b[39m.\u001b[39mmode\n\u001b[1;32m   1004\u001b[0m \u001b[39mif\u001b[39;00m mode \u001b[39min\u001b[39;00m \u001b[39mself\u001b[39m\u001b[39m.\u001b[39mverbose_modes:\n\u001b[1;32m   1005\u001b[0m     \u001b[39m# Verbose modes need a full traceback\u001b[39;00m\n\u001b[0;32m-> 1006\u001b[0m     \u001b[39mreturn\u001b[39;00m VerboseTB\u001b[39m.\u001b[39;49mstructured_traceback(\n\u001b[1;32m   1007\u001b[0m         \u001b[39mself\u001b[39;49m, etype, value, tb, tb_offset, number_of_lines_of_context\n\u001b[1;32m   1008\u001b[0m     )\n\u001b[1;32m   1009\u001b[0m \u001b[39melif\u001b[39;00m mode \u001b[39m==\u001b[39m \u001b[39m'\u001b[39m\u001b[39mMinimal\u001b[39m\u001b[39m'\u001b[39m:\n\u001b[1;32m   1010\u001b[0m     \u001b[39mreturn\u001b[39;00m ListTB\u001b[39m.\u001b[39mget_exception_only(\u001b[39mself\u001b[39m, etype, value)\n",
      "File \u001b[0;32m~/miniconda/envs/test_env/lib/python3.8/site-packages/IPython/core/ultratb.py:859\u001b[0m, in \u001b[0;36mVerboseTB.structured_traceback\u001b[0;34m(self, etype, evalue, etb, tb_offset, number_of_lines_of_context)\u001b[0m\n\u001b[1;32m    850\u001b[0m \u001b[39mdef\u001b[39;00m \u001b[39mstructured_traceback\u001b[39m(\n\u001b[1;32m    851\u001b[0m     \u001b[39mself\u001b[39m,\n\u001b[1;32m    852\u001b[0m     etype: \u001b[39mtype\u001b[39m,\n\u001b[0;32m   (...)\u001b[0m\n\u001b[1;32m    856\u001b[0m     number_of_lines_of_context: \u001b[39mint\u001b[39m \u001b[39m=\u001b[39m \u001b[39m5\u001b[39m,\n\u001b[1;32m    857\u001b[0m ):\n\u001b[1;32m    858\u001b[0m     \u001b[39m\"\"\"Return a nice text document describing the traceback.\"\"\"\u001b[39;00m\n\u001b[0;32m--> 859\u001b[0m     formatted_exception \u001b[39m=\u001b[39m \u001b[39mself\u001b[39;49m\u001b[39m.\u001b[39;49mformat_exception_as_a_whole(etype, evalue, etb, number_of_lines_of_context,\n\u001b[1;32m    860\u001b[0m                                                            tb_offset)\n\u001b[1;32m    862\u001b[0m     colors \u001b[39m=\u001b[39m \u001b[39mself\u001b[39m\u001b[39m.\u001b[39mColors  \u001b[39m# just a shorthand + quicker name lookup\u001b[39;00m\n\u001b[1;32m    863\u001b[0m     colorsnormal \u001b[39m=\u001b[39m colors\u001b[39m.\u001b[39mNormal  \u001b[39m# used a lot\u001b[39;00m\n",
      "File \u001b[0;32m~/miniconda/envs/test_env/lib/python3.8/site-packages/IPython/core/ultratb.py:793\u001b[0m, in \u001b[0;36mVerboseTB.format_exception_as_a_whole\u001b[0;34m(self, etype, evalue, etb, number_of_lines_of_context, tb_offset)\u001b[0m\n\u001b[1;32m    790\u001b[0m \u001b[39massert\u001b[39;00m \u001b[39misinstance\u001b[39m(tb_offset, \u001b[39mint\u001b[39m)\n\u001b[1;32m    791\u001b[0m head \u001b[39m=\u001b[39m \u001b[39mself\u001b[39m\u001b[39m.\u001b[39mprepare_header(etype, \u001b[39mself\u001b[39m\u001b[39m.\u001b[39mlong_header)\n\u001b[1;32m    792\u001b[0m records \u001b[39m=\u001b[39m (\n\u001b[0;32m--> 793\u001b[0m     \u001b[39mself\u001b[39;49m\u001b[39m.\u001b[39;49mget_records(etb, number_of_lines_of_context, tb_offset) \u001b[39mif\u001b[39;00m etb \u001b[39melse\u001b[39;00m []\n\u001b[1;32m    794\u001b[0m )\n\u001b[1;32m    796\u001b[0m frames \u001b[39m=\u001b[39m []\n\u001b[1;32m    797\u001b[0m skipped \u001b[39m=\u001b[39m \u001b[39m0\u001b[39m\n",
      "File \u001b[0;32m~/miniconda/envs/test_env/lib/python3.8/site-packages/IPython/core/ultratb.py:848\u001b[0m, in \u001b[0;36mVerboseTB.get_records\u001b[0;34m(self, etb, number_of_lines_of_context, tb_offset)\u001b[0m\n\u001b[1;32m    842\u001b[0m     formatter \u001b[39m=\u001b[39m \u001b[39mNone\u001b[39;00m\n\u001b[1;32m    843\u001b[0m options \u001b[39m=\u001b[39m stack_data\u001b[39m.\u001b[39mOptions(\n\u001b[1;32m    844\u001b[0m     before\u001b[39m=\u001b[39mbefore,\n\u001b[1;32m    845\u001b[0m     after\u001b[39m=\u001b[39mafter,\n\u001b[1;32m    846\u001b[0m     pygments_formatter\u001b[39m=\u001b[39mformatter,\n\u001b[1;32m    847\u001b[0m )\n\u001b[0;32m--> 848\u001b[0m \u001b[39mreturn\u001b[39;00m \u001b[39mlist\u001b[39;49m(stack_data\u001b[39m.\u001b[39;49mFrameInfo\u001b[39m.\u001b[39;49mstack_data(etb, options\u001b[39m=\u001b[39;49moptions))[tb_offset:]\n",
      "File \u001b[0;32m~/miniconda/envs/test_env/lib/python3.8/site-packages/stack_data/core.py:578\u001b[0m, in \u001b[0;36mFrameInfo.stack_data\u001b[0;34m(cls, frame_or_tb, options, collapse_repeated_frames)\u001b[0m\n\u001b[1;32m    562\u001b[0m \u001b[39m@classmethod\u001b[39m\n\u001b[1;32m    563\u001b[0m \u001b[39mdef\u001b[39;00m \u001b[39mstack_data\u001b[39m(\n\u001b[1;32m    564\u001b[0m         \u001b[39mcls\u001b[39m,\n\u001b[0;32m   (...)\u001b[0m\n\u001b[1;32m    568\u001b[0m         collapse_repeated_frames: \u001b[39mbool\u001b[39m \u001b[39m=\u001b[39m \u001b[39mTrue\u001b[39;00m\n\u001b[1;32m    569\u001b[0m ) \u001b[39m-\u001b[39m\u001b[39m>\u001b[39m Iterator[Union[\u001b[39m'\u001b[39m\u001b[39mFrameInfo\u001b[39m\u001b[39m'\u001b[39m, RepeatedFrames]]:\n\u001b[1;32m    570\u001b[0m     \u001b[39m\"\"\"\u001b[39;00m\n\u001b[1;32m    571\u001b[0m \u001b[39m    An iterator of FrameInfo and RepeatedFrames objects representing\u001b[39;00m\n\u001b[1;32m    572\u001b[0m \u001b[39m    a full traceback or stack. Similar consecutive frames are collapsed into RepeatedFrames\u001b[39;00m\n\u001b[0;32m   (...)\u001b[0m\n\u001b[1;32m    576\u001b[0m \u001b[39m    and optionally an Options object to configure.\u001b[39;00m\n\u001b[1;32m    577\u001b[0m \u001b[39m    \"\"\"\u001b[39;00m\n\u001b[0;32m--> 578\u001b[0m     stack \u001b[39m=\u001b[39m \u001b[39mlist\u001b[39;49m(iter_stack(frame_or_tb))\n\u001b[1;32m    580\u001b[0m     \u001b[39m# Reverse the stack from a frame so that it's in the same order\u001b[39;00m\n\u001b[1;32m    581\u001b[0m     \u001b[39m# as the order from a traceback, which is the order of a printed\u001b[39;00m\n\u001b[1;32m    582\u001b[0m     \u001b[39m# traceback when read top to bottom (most recent call last)\u001b[39;00m\n\u001b[1;32m    583\u001b[0m     \u001b[39mif\u001b[39;00m is_frame(frame_or_tb):\n",
      "File \u001b[0;32m~/miniconda/envs/test_env/lib/python3.8/site-packages/stack_data/utils.py:98\u001b[0m, in \u001b[0;36miter_stack\u001b[0;34m(frame_or_tb)\u001b[0m\n\u001b[1;32m     96\u001b[0m \u001b[39mwhile\u001b[39;00m frame_or_tb:\n\u001b[1;32m     97\u001b[0m     \u001b[39myield\u001b[39;00m frame_or_tb\n\u001b[0;32m---> 98\u001b[0m     \u001b[39mif\u001b[39;00m is_frame(frame_or_tb):\n\u001b[1;32m     99\u001b[0m         frame_or_tb \u001b[39m=\u001b[39m frame_or_tb\u001b[39m.\u001b[39mf_back\n\u001b[1;32m    100\u001b[0m     \u001b[39melse\u001b[39;00m:\n",
      "File \u001b[0;32m~/miniconda/envs/test_env/lib/python3.8/site-packages/stack_data/utils.py:91\u001b[0m, in \u001b[0;36mis_frame\u001b[0;34m(frame_or_tb)\u001b[0m\n\u001b[1;32m     90\u001b[0m \u001b[39mdef\u001b[39;00m \u001b[39mis_frame\u001b[39m(frame_or_tb: Union[FrameType, TracebackType]) \u001b[39m-\u001b[39m\u001b[39m>\u001b[39m \u001b[39mbool\u001b[39m:\n\u001b[0;32m---> 91\u001b[0m     assert_(\u001b[39misinstance\u001b[39;49m(frame_or_tb, (types\u001b[39m.\u001b[39;49mFrameType, types\u001b[39m.\u001b[39;49mTracebackType)))\n\u001b[1;32m     92\u001b[0m     \u001b[39mreturn\u001b[39;00m \u001b[39misinstance\u001b[39m(frame_or_tb, (types\u001b[39m.\u001b[39mFrameType,))\n",
      "File \u001b[0;32m~/miniconda/envs/test_env/lib/python3.8/site-packages/stack_data/utils.py:172\u001b[0m, in \u001b[0;36massert_\u001b[0;34m(condition, error)\u001b[0m\n\u001b[1;32m    170\u001b[0m \u001b[39mif\u001b[39;00m \u001b[39misinstance\u001b[39m(error, \u001b[39mstr\u001b[39m):\n\u001b[1;32m    171\u001b[0m     error \u001b[39m=\u001b[39m \u001b[39mAssertionError\u001b[39;00m(error)\n\u001b[0;32m--> 172\u001b[0m \u001b[39mraise\u001b[39;00m error\n",
      "\u001b[0;31mAssertionError\u001b[0m: "
     ]
    }
   ],
   "source": [
    "if X_gt.targettype is None:\n",
    "    X_test = X_gt.test()\n",
    "    X_test.targettype = X_gt.targettype\n",
    "    y_pred_mean, y_pred_std, models = aggregate_imshow(X_test, X_syns, density_estimation)\n",
    "    \n",
    "\n"
   ]
  }
 ],
 "metadata": {
  "kernelspec": {
   "display_name": "Python 3.8.13 ('test_env')",
   "language": "python",
   "name": "python3"
  },
  "language_info": {
   "codemirror_mode": {
    "name": "ipython",
    "version": 3
   },
   "file_extension": ".py",
   "mimetype": "text/x-python",
   "name": "python",
   "nbconvert_exporter": "python",
   "pygments_lexer": "ipython3",
   "version": "3.8.13"
  },
  "orig_nbformat": 4,
  "vscode": {
   "interpreter": {
    "hash": "0f2c99a57bac5efacecfbabca5467a1b952b0d9c1ae060d8550953085427f683"
   }
  }
 },
 "nbformat": 4,
 "nbformat_minor": 2
}
