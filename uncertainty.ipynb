{
 "cells": [
  {
   "cell_type": "markdown",
   "metadata": {},
   "source": [
    "# Import modules"
   ]
  },
  {
   "cell_type": "code",
   "execution_count": 1,
   "metadata": {},
   "outputs": [
    {
     "name": "stderr",
     "output_type": "stream",
     "text": [
      "/home/bv292/miniconda/envs/test_env/lib/python3.8/site-packages/tqdm/auto.py:22: TqdmWarning: IProgress not found. Please update jupyter and ipywidgets. See https://ipywidgets.readthedocs.io/en/stable/user_install.html\n",
      "  from .autonotebook import tqdm as notebook_tqdm\n"
     ]
    }
   ],
   "source": [
    "from sklearn.datasets import load_diabetes\n",
    "import pickle\n",
    "import pandas as pd\n",
    "import numpy as np\n",
    "import sklearn\n",
    "import matplotlib.pyplot as plt\n",
    "from sklearn.datasets import load_iris\n",
    "import os\n",
    "import torch\n",
    "\n",
    "\n",
    "from synthcity.metrics.eval_performance import (\n",
    "    PerformanceEvaluatorMLP,\n",
    "    PerformanceEvaluatorXGB,\n",
    ")\n",
    "from synthcity.utils import reproducibility\n",
    "from synthcity.plugins import Plugins\n",
    "import synthcity.logger as log\n",
    "from synthcity.plugins.core.dataloader import GenericDataLoader\n",
    "\n",
    "\n",
    "reproducibility.clear_cache()\n",
    "device = torch.device(\"cuda\" if torch.cuda.is_available() else \"cpu\")\n",
    "Plugins(categories=[\"generic\"]).list()\n",
    "\n",
    "assert device.type == 'cuda'\n"
   ]
  },
  {
   "attachments": {},
   "cell_type": "markdown",
   "metadata": {},
   "source": [
    "# Reload"
   ]
  },
  {
   "cell_type": "code",
   "execution_count": 5,
   "metadata": {},
   "outputs": [
    {
     "data": {
      "text/plain": [
       "<module 'DGE_utils' from '/home/bv292/synthcity/DGE_utils.py'>"
      ]
     },
     "execution_count": 5,
     "metadata": {},
     "output_type": "execute_result"
    }
   ],
   "source": [
    "import importlib\n",
    "import DGE_experiments\n",
    "import DGE_data\n",
    "import DGE_utils\n",
    "importlib.reload(DGE_experiments)\n",
    "importlib.reload(DGE_data)\n",
    "importlib.reload(DGE_utils)\n"
   ]
  },
  {
   "cell_type": "markdown",
   "metadata": {},
   "source": [
    "# Load data and settings"
   ]
  },
  {
   "cell_type": "code",
   "execution_count": 8,
   "metadata": {},
   "outputs": [
    {
     "name": "stdout",
     "output_type": "stream",
     "text": [
      "n_total 40000 n_train: 4000\n"
     ]
    },
    {
     "name": "stderr",
     "output_type": "stream",
     "text": [
      "100%|██████████| 2000/2000 [03:26<00:00,  9.68it/s]\n",
      "100%|██████████| 2000/2000 [03:27<00:00,  9.66it/s]\n",
      "100%|██████████| 2000/2000 [03:26<00:00,  9.66it/s]\n",
      "100%|██████████| 2000/2000 [03:24<00:00,  9.76it/s]\n",
      "100%|██████████| 2000/2000 [03:25<00:00,  9.71it/s]\n",
      "100%|██████████| 2000/2000 [03:26<00:00,  9.68it/s]\n",
      "100%|██████████| 2000/2000 [03:23<00:00,  9.83it/s]\n",
      "100%|██████████| 2000/2000 [03:22<00:00,  9.86it/s]\n",
      "100%|██████████| 2000/2000 [03:26<00:00,  9.68it/s]\n",
      "100%|██████████| 2000/2000 [03:27<00:00,  9.63it/s]\n",
      "100%|██████████| 2000/2000 [03:26<00:00,  9.69it/s]\n",
      "100%|██████████| 2000/2000 [03:24<00:00,  9.77it/s]\n",
      "100%|██████████| 2000/2000 [03:24<00:00,  9.79it/s]\n",
      " 27%|██▋       | 536/2000 [00:54<02:25, 10.06it/s]"
     ]
    }
   ],
   "source": [
    "from DGE_data import get_real_and_synthetic\n",
    "\n",
    "dataset = 'gaussian'  # real data\n",
    "model_name = 'ctgan'  # synthetic data model\n",
    "\n",
    "nsyn = 100  # number of synthetic data points per synthetic dataset\n",
    "p_train = 0.7  # proportion of training data for generative model\n",
    "n_models = 20  # number of models in ensemble\n",
    "load = True  # results\n",
    "\n",
    "load_syn = True  # data\n",
    "save = True  # save results and data\n",
    "verbose = False\n",
    "\n",
    "\n",
    "workspace_folder = \"workspace/\"+dataset+\"/\"+model_name\n",
    "results_folder = \"uncertainty_results/\"+dataset+\"/\"+model_name\n",
    "\n",
    "X_gt, X_syns = get_real_and_synthetic(dataset=dataset,\n",
    "                                      p_train=p_train,\n",
    "                                      n_models=n_models,\n",
    "                                      model_name=model_name,\n",
    "                                      load_syn=load_syn,\n",
    "                                      verbose=verbose)\n",
    "\n",
    "print(len(X_syns))\n",
    "print(X_syns[0].shape)\n"
   ]
  },
  {
   "attachments": {},
   "cell_type": "markdown",
   "metadata": {},
   "source": [
    "# Analyses"
   ]
  },
  {
   "attachments": {},
   "cell_type": "markdown",
   "metadata": {},
   "source": [
    "## Model Training"
   ]
  },
  {
   "cell_type": "code",
   "execution_count": 7,
   "metadata": {},
   "outputs": [
    {
     "ename": "ValueError",
     "evalue": "y_true takes value in {42.0, 47.0, 49.0, 51.0, 52.0, 53.0, 57.0, 59.0, 61.0, 63.0, 64.0, 67.0, 68.0, 71.0, 72.0, 74.0, 75.0, 78.0, 84.0, 85.0, 86.0, 88.0, 89.0, 90.0, 93.0, 94.0, 95.0, 96.0, 97.0, 98.0, 99.0, 101.0, 103.0, 104.0, 107.0, 109.0, 110.0, 113.0, 118.0, 121.0, 122.0, 127.0, 128.0, 129.0, 131.0, 132.0, 135.0, 136.0, 137.0, 138.0, 141.0, 142.0, 144.0, 145.0, 150.0, 151.0, 155.0, 156.0, 158.0, 160.0, 163.0, 167.0, 168.0, 170.0, 171.0, 174.0, 175.0, 178.0, 179.0, 180.0, 181.0, 182.0, 186.0, 191.0, 192.0, 195.0, 196.0, 197.0, 198.0, 200.0, 208.0, 212.0, 214.0, 215.0, 217.0, 219.0, 220.0, 230.0, 232.0, 233.0, 235.0, 237.0, 244.0, 252.0, 257.0, 264.0, 270.0, 272.0, 275.0, 276.0, 281.0, 283.0, 292.0, 297.0, 302.0, 317.0, 321.0} and pos_label is not specified: either make y_true take value in {0, 1} or {-1, 1} or pass pos_label explicitly.",
     "output_type": "error",
     "traceback": [
      "\u001b[0;31m---------------------------------------------------------------------------\u001b[0m",
      "\u001b[0;31mValueError\u001b[0m                                Traceback (most recent call last)",
      "Cell \u001b[0;32mIn [7], line 3\u001b[0m\n\u001b[1;32m      1\u001b[0m \u001b[39mfrom\u001b[39;00m \u001b[39mDGE_experiments\u001b[39;00m \u001b[39mimport\u001b[39;00m predictive_experiment\n\u001b[0;32m----> 3\u001b[0m predictive_experiment(X_gt,\n\u001b[1;32m      4\u001b[0m                     X_syns, \n\u001b[1;32m      5\u001b[0m                     workspace_folder\u001b[39m=\u001b[39;49mworkspace_folder,\n\u001b[1;32m      6\u001b[0m                     results_folder\u001b[39m=\u001b[39;49mresults_folder,\n\u001b[1;32m      7\u001b[0m                     save\u001b[39m=\u001b[39;49m\u001b[39mTrue\u001b[39;49;00m, \n\u001b[1;32m      8\u001b[0m                     load\u001b[39m=\u001b[39;49m\u001b[39mTrue\u001b[39;49;00m)\n",
      "File \u001b[0;32m~/synthcity/DGE_experiments.py:96\u001b[0m, in \u001b[0;36mpredictive_experiment\u001b[0;34m(X_gt, X_syns, task_type, results_folder, workspace_folder, load, save)\u001b[0m\n\u001b[1;32m     94\u001b[0m \u001b[39mfor\u001b[39;00m y_pred \u001b[39min\u001b[39;00m y_preds:\n\u001b[1;32m     95\u001b[0m     y_true \u001b[39m=\u001b[39m X_test\u001b[39m.\u001b[39mdataframe()[\u001b[39m'\u001b[39m\u001b[39mtarget\u001b[39m\u001b[39m'\u001b[39m]\u001b[39m.\u001b[39mvalues\n\u001b[0;32m---> 96\u001b[0m     prob_true, prob_pred \u001b[39m=\u001b[39m calibration_curve(y_true, y_pred)\n\u001b[1;32m     97\u001b[0m     plt\u001b[39m.\u001b[39mplot(prob_pred, prob_true)\n\u001b[1;32m     98\u001b[0m plt\u001b[39m.\u001b[39mlegend([\u001b[39m'\u001b[39m\u001b[39mDGE (k=20)\u001b[39m\u001b[39m'\u001b[39m, \u001b[39m'\u001b[39m\u001b[39mDGE (k=10)\u001b[39m\u001b[39m'\u001b[39m, \u001b[39m'\u001b[39m\u001b[39mDGE (k=5)\u001b[39m\u001b[39m'\u001b[39m,\n\u001b[1;32m     99\u001b[0m            \u001b[39m'\u001b[39m\u001b[39mNaive (single)\u001b[39m\u001b[39m'\u001b[39m, \u001b[39m'\u001b[39m\u001b[39mNaive (concat)\u001b[39m\u001b[39m'\u001b[39m])\n",
      "File \u001b[0;32m~/miniconda/envs/test_env/lib/python3.8/site-packages/sklearn/calibration.py:960\u001b[0m, in \u001b[0;36mcalibration_curve\u001b[0;34m(y_true, y_prob, pos_label, normalize, n_bins, strategy)\u001b[0m\n\u001b[1;32m    958\u001b[0m y_prob \u001b[39m=\u001b[39m column_or_1d(y_prob)\n\u001b[1;32m    959\u001b[0m check_consistent_length(y_true, y_prob)\n\u001b[0;32m--> 960\u001b[0m pos_label \u001b[39m=\u001b[39m _check_pos_label_consistency(pos_label, y_true)\n\u001b[1;32m    962\u001b[0m \u001b[39m# TODO(1.3): Remove normalize conditional block.\u001b[39;00m\n\u001b[1;32m    963\u001b[0m \u001b[39mif\u001b[39;00m normalize \u001b[39m!=\u001b[39m \u001b[39m\"\u001b[39m\u001b[39mdeprecated\u001b[39m\u001b[39m\"\u001b[39m:\n",
      "File \u001b[0;32m~/miniconda/envs/test_env/lib/python3.8/site-packages/sklearn/metrics/_base.py:243\u001b[0m, in \u001b[0;36m_check_pos_label_consistency\u001b[0;34m(pos_label, y_true)\u001b[0m\n\u001b[1;32m    232\u001b[0m \u001b[39mif\u001b[39;00m pos_label \u001b[39mis\u001b[39;00m \u001b[39mNone\u001b[39;00m \u001b[39mand\u001b[39;00m (\n\u001b[1;32m    233\u001b[0m     classes\u001b[39m.\u001b[39mdtype\u001b[39m.\u001b[39mkind \u001b[39min\u001b[39;00m \u001b[39m\"\u001b[39m\u001b[39mOUS\u001b[39m\u001b[39m\"\u001b[39m\n\u001b[1;32m    234\u001b[0m     \u001b[39mor\u001b[39;00m \u001b[39mnot\u001b[39;00m (\n\u001b[0;32m   (...)\u001b[0m\n\u001b[1;32m    240\u001b[0m     )\n\u001b[1;32m    241\u001b[0m ):\n\u001b[1;32m    242\u001b[0m     classes_repr \u001b[39m=\u001b[39m \u001b[39m\"\u001b[39m\u001b[39m, \u001b[39m\u001b[39m\"\u001b[39m\u001b[39m.\u001b[39mjoin(\u001b[39mrepr\u001b[39m(c) \u001b[39mfor\u001b[39;00m c \u001b[39min\u001b[39;00m classes)\n\u001b[0;32m--> 243\u001b[0m     \u001b[39mraise\u001b[39;00m \u001b[39mValueError\u001b[39;00m(\n\u001b[1;32m    244\u001b[0m         \u001b[39mf\u001b[39m\u001b[39m\"\u001b[39m\u001b[39my_true takes value in \u001b[39m\u001b[39m{{\u001b[39;00m\u001b[39m{\u001b[39;00mclasses_repr\u001b[39m}\u001b[39;00m\u001b[39m}}\u001b[39;00m\u001b[39m and pos_label is not \u001b[39m\u001b[39m\"\u001b[39m\n\u001b[1;32m    245\u001b[0m         \u001b[39m\"\u001b[39m\u001b[39mspecified: either make y_true take value in \u001b[39m\u001b[39m{\u001b[39m\u001b[39m0, 1} or \u001b[39m\u001b[39m\"\u001b[39m\n\u001b[1;32m    246\u001b[0m         \u001b[39m\"\u001b[39m\u001b[39m{\u001b[39m\u001b[39m-1, 1} or pass pos_label explicitly.\u001b[39m\u001b[39m\"\u001b[39m\n\u001b[1;32m    247\u001b[0m     )\n\u001b[1;32m    248\u001b[0m \u001b[39melif\u001b[39;00m pos_label \u001b[39mis\u001b[39;00m \u001b[39mNone\u001b[39;00m:\n\u001b[1;32m    249\u001b[0m     pos_label \u001b[39m=\u001b[39m \u001b[39m1\u001b[39m\n",
      "\u001b[0;31mValueError\u001b[0m: y_true takes value in {42.0, 47.0, 49.0, 51.0, 52.0, 53.0, 57.0, 59.0, 61.0, 63.0, 64.0, 67.0, 68.0, 71.0, 72.0, 74.0, 75.0, 78.0, 84.0, 85.0, 86.0, 88.0, 89.0, 90.0, 93.0, 94.0, 95.0, 96.0, 97.0, 98.0, 99.0, 101.0, 103.0, 104.0, 107.0, 109.0, 110.0, 113.0, 118.0, 121.0, 122.0, 127.0, 128.0, 129.0, 131.0, 132.0, 135.0, 136.0, 137.0, 138.0, 141.0, 142.0, 144.0, 145.0, 150.0, 151.0, 155.0, 156.0, 158.0, 160.0, 163.0, 167.0, 168.0, 170.0, 171.0, 174.0, 175.0, 178.0, 179.0, 180.0, 181.0, 182.0, 186.0, 191.0, 192.0, 195.0, 196.0, 197.0, 198.0, 200.0, 208.0, 212.0, 214.0, 215.0, 217.0, 219.0, 220.0, 230.0, 232.0, 233.0, 235.0, 237.0, 244.0, 252.0, 257.0, 264.0, 270.0, 272.0, 275.0, 276.0, 281.0, 283.0, 292.0, 297.0, 302.0, 317.0, 321.0} and pos_label is not specified: either make y_true take value in {0, 1} or {-1, 1} or pass pos_label explicitly."
     ]
    }
   ],
   "source": [
    "from DGE_experiments import predictive_experiment\n",
    "\n",
    "predictive_experiment(X_gt,\n",
    "                      X_syns,\n",
    "                      workspace_folder=workspace_folder,\n",
    "                      results_folder=results_folder,\n",
    "                      save=save,\n",
    "                      load=load)\n"
   ]
  },
  {
   "attachments": {},
   "cell_type": "markdown",
   "metadata": {},
   "source": [
    "## Influence of synthetic data size"
   ]
  },
  {
   "attachments": {},
   "cell_type": "markdown",
   "metadata": {},
   "source": [
    "Let's study the effect of synthetic data size."
   ]
  },
  {
   "cell_type": "code",
   "execution_count": null,
   "metadata": {},
   "outputs": [],
   "source": [
    "from DGE_experiments import predictive_varying_nsyn\n",
    "\n",
    "predictive_varying_nsyn(X_gt, X_syns, dataset, model_name, n_models,\n",
    "                        nsyn, results_folder, workspace_folder, load, save, verbose=True)\n"
   ]
  },
  {
   "attachments": {},
   "cell_type": "markdown",
   "metadata": {},
   "source": [
    "## Density estimation\n"
   ]
  },
  {
   "cell_type": "code",
   "execution_count": null,
   "metadata": {},
   "outputs": [],
   "source": [
    "from DGE_experiments import density_experiment\n",
    "\n",
    "if X_gt.targettype is None:\n",
    "    density_experiment(X_gt, X_syns, load, save)\n"
   ]
  },
  {
   "attachments": {},
   "cell_type": "markdown",
   "metadata": {},
   "source": [
    "# Model Evaluation\n",
    "\n",
    "We compare the single baseline model vs the generative uncertainty model vs an oracle. Workflow.\n",
    "0. Train and generate synthetic datasets $S_i$.\n",
    "1. Take each synthetic dataset $S_i$ and split it up in train and test.\n",
    "2. Train a model $f_i$ on the train set, for each $S_i$\n",
    "3. Evaluate on the same synthetic dataset's test set $S_{i,test}$, giving $\\hat{M}^S_i$ [Single performance]\n",
    "4. Evaluate on the true real test set (oracle), $D_{test}$, giving $M_i$ [Oracle performance]\n",
    "5. Evaluate on the other synthetic datasets $\\cup_{j\\neq i} S_{j}$, giving $\\hat{M}^G_i$ [Generative performance]\n",
    "6. Compute the deviation from the oracle, $||M_i - \\hat{M}_i||$ and average over all models $f_i$. \n",
    "7. Repeat 1-6 for different model classes $f$\n",
    "\n",
    "N.B. the idea of the above, is that the trained model $f_i$ is the same for each evaluation type. In the model selection section, we will compare the performance of different model classes, where we will train a new model for each evaluation type (hence the aim is to evaluate which class is best, while the model itself may vary)."
   ]
  },
  {
   "cell_type": "code",
   "execution_count": null,
   "metadata": {},
   "outputs": [
    {
     "name": "stdout",
     "output_type": "stream",
     "text": [
      "Aggregate approaches:\n",
      "Train model 1/20\n",
      "Train model 2/20\n",
      "Train model 3/20\n",
      "Train model 4/20\n",
      "Train model 5/20\n",
      "Train model 6/20\n",
      "Train model 7/20\n",
      "Train model 8/20\n",
      "Train model 9/20\n",
      "Train model 10/20\n",
      "Train model 11/20\n",
      "Train model 12/20\n",
      "Train model 13/20\n",
      "Train model 14/20\n",
      "Train model 15/20\n",
      "Train model 16/20\n",
      "Train model 17/20\n",
      "Train model 18/20\n",
      "Train model 19/20\n",
      "Train model 20/20\n",
      "                    r2                    mse               mae\n",
      "oracle  -54.73 ± 18.88  869659.81 ± 106089.23  7269.96 ± 489.24\n",
      "single  -42.79 ± 20.74  838280.18 ± 193193.89  6868.49 ± 813.91\n",
      "us      -41.49 ± 17.64  854310.61 ± 107100.52  6956.84 ± 482.97\n"
     ]
    }
   ],
   "source": [
    "from DGE_experiments import model_evaluation_experiment\n",
    "\n",
    "if X_gt.targettype is not None:\n",
    "    print('Aggregate approaches:')\n",
    "    res = model_evaluation_experiment(X_gt, X_syns, 'mlp')[0]\n",
    "    print(res)\n"
   ]
  },
  {
   "attachments": {},
   "cell_type": "markdown",
   "metadata": {},
   "source": [
    "# Model Selection\n",
    "Essentially repeat the above for different models"
   ]
  },
  {
   "cell_type": "code",
   "execution_count": null,
   "metadata": {},
   "outputs": [
    {
     "name": "stdout",
     "output_type": "stream",
     "text": [
      "Train model 1/20\n",
      "Train model 2/20\n",
      "Train model 3/20\n",
      "Train model 4/20\n",
      "Train model 5/20\n",
      "Train model 6/20\n",
      "Train model 7/20\n",
      "Train model 8/20\n",
      "Train model 9/20\n",
      "Train model 10/20\n",
      "Train model 11/20\n",
      "Train model 12/20\n",
      "Train model 13/20\n",
      "Train model 14/20\n",
      "Train model 15/20\n",
      "Train model 16/20\n",
      "Train model 17/20\n",
      "Train model 18/20\n",
      "Train model 19/20\n",
      "Train model 20/20\n"
     ]
    },
    {
     "ename": "KeyError",
     "evalue": "'accuracy'",
     "output_type": "error",
     "traceback": [
      "\u001b[0;31m---------------------------------------------------------------------------\u001b[0m",
      "\u001b[0;31mKeyError\u001b[0m                                  Traceback (most recent call last)",
      "File \u001b[0;32m~/miniconda/envs/test_env/lib/python3.8/site-packages/pandas/core/indexes/base.py:3803\u001b[0m, in \u001b[0;36mIndex.get_loc\u001b[0;34m(self, key, method, tolerance)\u001b[0m\n\u001b[1;32m   3802\u001b[0m \u001b[39mtry\u001b[39;00m:\n\u001b[0;32m-> 3803\u001b[0m     \u001b[39mreturn\u001b[39;00m \u001b[39mself\u001b[39;49m\u001b[39m.\u001b[39;49m_engine\u001b[39m.\u001b[39;49mget_loc(casted_key)\n\u001b[1;32m   3804\u001b[0m \u001b[39mexcept\u001b[39;00m \u001b[39mKeyError\u001b[39;00m \u001b[39mas\u001b[39;00m err:\n",
      "File \u001b[0;32m~/miniconda/envs/test_env/lib/python3.8/site-packages/pandas/_libs/index.pyx:138\u001b[0m, in \u001b[0;36mpandas._libs.index.IndexEngine.get_loc\u001b[0;34m()\u001b[0m\n",
      "File \u001b[0;32m~/miniconda/envs/test_env/lib/python3.8/site-packages/pandas/_libs/index.pyx:165\u001b[0m, in \u001b[0;36mpandas._libs.index.IndexEngine.get_loc\u001b[0;34m()\u001b[0m\n",
      "File \u001b[0;32mpandas/_libs/hashtable_class_helper.pxi:5745\u001b[0m, in \u001b[0;36mpandas._libs.hashtable.PyObjectHashTable.get_item\u001b[0;34m()\u001b[0m\n",
      "File \u001b[0;32mpandas/_libs/hashtable_class_helper.pxi:5753\u001b[0m, in \u001b[0;36mpandas._libs.hashtable.PyObjectHashTable.get_item\u001b[0;34m()\u001b[0m\n",
      "\u001b[0;31mKeyError\u001b[0m: 'accuracy'",
      "\nThe above exception was the direct cause of the following exception:\n",
      "\u001b[0;31mKeyError\u001b[0m                                  Traceback (most recent call last)",
      "Cell \u001b[0;32mIn [81], line 9\u001b[0m\n\u001b[1;32m      7\u001b[0m \u001b[39mfor\u001b[39;00m i, model_type \u001b[39min\u001b[39;00m \u001b[39menumerate\u001b[39m(model_types):\n\u001b[1;32m      8\u001b[0m     res, mean, _ \u001b[39m=\u001b[39m aggregate_approaches(model_type, relative\u001b[39m=\u001b[39mrelative)\n\u001b[0;32m----> 9\u001b[0m     results\u001b[39m.\u001b[39mappend(res[metric])\n\u001b[1;32m     10\u001b[0m     means\u001b[39m.\u001b[39mappend(mean[metric])\n\u001b[1;32m     12\u001b[0m means \u001b[39m=\u001b[39m pd\u001b[39m.\u001b[39mconcat(means,axis\u001b[39m=\u001b[39m\u001b[39m1\u001b[39m)\n",
      "File \u001b[0;32m~/miniconda/envs/test_env/lib/python3.8/site-packages/pandas/core/frame.py:3805\u001b[0m, in \u001b[0;36mDataFrame.__getitem__\u001b[0;34m(self, key)\u001b[0m\n\u001b[1;32m   3803\u001b[0m \u001b[39mif\u001b[39;00m \u001b[39mself\u001b[39m\u001b[39m.\u001b[39mcolumns\u001b[39m.\u001b[39mnlevels \u001b[39m>\u001b[39m \u001b[39m1\u001b[39m:\n\u001b[1;32m   3804\u001b[0m     \u001b[39mreturn\u001b[39;00m \u001b[39mself\u001b[39m\u001b[39m.\u001b[39m_getitem_multilevel(key)\n\u001b[0;32m-> 3805\u001b[0m indexer \u001b[39m=\u001b[39m \u001b[39mself\u001b[39;49m\u001b[39m.\u001b[39;49mcolumns\u001b[39m.\u001b[39;49mget_loc(key)\n\u001b[1;32m   3806\u001b[0m \u001b[39mif\u001b[39;00m is_integer(indexer):\n\u001b[1;32m   3807\u001b[0m     indexer \u001b[39m=\u001b[39m [indexer]\n",
      "File \u001b[0;32m~/miniconda/envs/test_env/lib/python3.8/site-packages/pandas/core/indexes/base.py:3805\u001b[0m, in \u001b[0;36mIndex.get_loc\u001b[0;34m(self, key, method, tolerance)\u001b[0m\n\u001b[1;32m   3803\u001b[0m     \u001b[39mreturn\u001b[39;00m \u001b[39mself\u001b[39m\u001b[39m.\u001b[39m_engine\u001b[39m.\u001b[39mget_loc(casted_key)\n\u001b[1;32m   3804\u001b[0m \u001b[39mexcept\u001b[39;00m \u001b[39mKeyError\u001b[39;00m \u001b[39mas\u001b[39;00m err:\n\u001b[0;32m-> 3805\u001b[0m     \u001b[39mraise\u001b[39;00m \u001b[39mKeyError\u001b[39;00m(key) \u001b[39mfrom\u001b[39;00m \u001b[39merr\u001b[39;00m\n\u001b[1;32m   3806\u001b[0m \u001b[39mexcept\u001b[39;00m \u001b[39mTypeError\u001b[39;00m:\n\u001b[1;32m   3807\u001b[0m     \u001b[39m# If we have a listlike key, _check_indexing_error will raise\u001b[39;00m\n\u001b[1;32m   3808\u001b[0m     \u001b[39m#  InvalidIndexError. Otherwise we fall through and re-raise\u001b[39;00m\n\u001b[1;32m   3809\u001b[0m     \u001b[39m#  the TypeError.\u001b[39;00m\n\u001b[1;32m   3810\u001b[0m     \u001b[39mself\u001b[39m\u001b[39m.\u001b[39m_check_indexing_error(key)\n",
      "\u001b[0;31mKeyError\u001b[0m: 'accuracy'"
     ]
    }
   ],
   "source": [
    "from DGE_experiments import model_selection_experiment\n",
    "\n",
    "if X_gt.targettype is not None:\n",
    "    model_selection_experiment(model_type='mlp', relative='l1', metric='accuracy')\n"
   ]
  },
  {
   "attachments": {},
   "cell_type": "markdown",
   "metadata": {},
   "source": [
    "# Cross validation\n",
    "\n",
    "We compare the single baseline model vs the generative uncertainty model. Single workflow\n",
    "1. Take each synthetic dataset $S_i$ and split it up in train and test.\n",
    "2. Train a model $f_i$ on the train set, for each $S_i$\n",
    "3. Evaluate on the same synthetic datasets test set $S_{i,test}$\n",
    "4. Evaluate on the true real test set (oracle), $D_{test}$, giving $\\hat{M}_i$\n",
    "5. Average results across the different synthetic datasets, giving $M_i$.\n",
    "6. Compute the deviation from the oracle, $||M_i - \\hat{M}_i||$ and average.\n",
    "\n",
    "Versus our baseline\n",
    "1. Take each synthetic dataset $S_i$ and split it up in train and test\n",
    "2. Train a model $f_i$ on the train set, for each $S_i$\n",
    "3. Evaluate on the same synthetic datasets test set $S_{i,test}\n",
    "4. Evaluate on the true real test set (oracle), $D_{test}$, giving $\\hat{M}_i$\n",
    "5. Average results across the different synthetic datasets, giving $M_i$.\n",
    "6. Compute the deviation from the oracle, $||M_i - \\hat{M}_i||$ and average.\n",
    "\n",
    "\n",
    "Cross-validation approach to test which type of model would perform best on real data. We compare the single baseline model vs the generative uncertainty model vs an oracle. Workflow Cross-validation.\n",
    "0. Train and generate synthetic datasets $S_i$.\n",
    "1. Use CV to train and evaluate models $f_i$ on each $S_i$. Repeat for all $S_i$. [Single performance]\n",
    "2. Use CV \\textit{over datasets $S_i$} (i.e. train on all but one $S_i$, evaluate on remaining and repeat) to train and evaluate models $f_i$.\n",
    "3. For both cases, evaluate the model also on the true real test set (oracle), $D_{test}$, giving $M_i$ [Oracle performance]\n",
    "4. Compute the deviation from the oracle, $||M_i - \\hat{M}_i||$ and average over all models $f_i$. "
   ]
  },
  {
   "attachments": {},
   "cell_type": "markdown",
   "metadata": {},
   "source": [
    "# Model parameter estimation\n",
    "Using a linear model"
   ]
  },
  {
   "cell_type": "code",
   "execution_count": null,
   "metadata": {},
   "outputs": [],
   "source": []
  },
  {
   "attachments": {},
   "cell_type": "markdown",
   "metadata": {},
   "source": [
    "# Calibration"
   ]
  },
  {
   "cell_type": "code",
   "execution_count": null,
   "metadata": {},
   "outputs": [],
   "source": [
    "from sklearn.calibration import calibration_curve\n",
    "\n",
    "\n",
    "#prob_true, prob_pred = calibration_curve(y_true, y_pred, n_bins=3)\n"
   ]
  },
  {
   "cell_type": "code",
   "execution_count": null,
   "metadata": {},
   "outputs": [],
   "source": []
  }
 ],
 "metadata": {
  "kernelspec": {
   "display_name": "Python 3.8.13 ('test_env')",
   "language": "python",
   "name": "python3"
  },
  "language_info": {
   "codemirror_mode": {
    "name": "ipython",
    "version": 3
   },
   "file_extension": ".py",
   "mimetype": "text/x-python",
   "name": "python",
   "nbconvert_exporter": "python",
   "pygments_lexer": "ipython3",
   "version": "3.8.13"
  },
  "orig_nbformat": 4,
  "vscode": {
   "interpreter": {
    "hash": "0f2c99a57bac5efacecfbabca5467a1b952b0d9c1ae060d8550953085427f683"
   }
  }
 },
 "nbformat": 4,
 "nbformat_minor": 2
}
